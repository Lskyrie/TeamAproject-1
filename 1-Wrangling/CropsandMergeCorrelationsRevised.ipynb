{
 "cells": [
  {
   "cell_type": "markdown",
   "id": "8b5d3684",
   "metadata": {},
   "source": [
    "# Correlations"
   ]
  },
  {
   "cell_type": "markdown",
   "id": "d86e2611",
   "metadata": {},
   "source": [
    "## Importing packages and dataset"
   ]
  },
  {
   "cell_type": "code",
   "execution_count": 5,
   "id": "2591d1b1",
   "metadata": {},
   "outputs": [],
   "source": [
    "import pandas as pd\n",
    "import numpy as np\n",
    "import matplotlib.pyplot as plt\n",
    "from pylab import *\n",
    "import seaborn as sns\n",
    "%matplotlib inline\n",
    "import  statsmodels.api as sm\n",
    "import statsmodels.stats.api as sms\n",
    "from scipy.stats import boxcox\n"
   ]
  },
  {
   "cell_type": "code",
   "execution_count": 8,
   "id": "6a3d4c2d",
   "metadata": {},
   "outputs": [],
   "source": [
    "df = pd.read_csv(\"/Users/lskyrie/Documents/GitHub/TeamAproject/CropsMergedDataR.csv\")"
   ]
  },
  {
   "cell_type": "code",
   "execution_count": 9,
   "id": "aea57258",
   "metadata": {},
   "outputs": [
    {
     "name": "stdout",
     "output_type": "stream",
     "text": [
      "    Crops  Year     Tonnes   USD1000  TempChange\n",
      "0       1  1999  239548580  17247498       0.755\n",
      "1       1  2000  251853900  18385335       1.000\n",
      "2       1  2001  241376650  18827379       0.784\n",
      "3       1  2002  227766880  20726786       0.953\n",
      "4       1  2003  256229020  24341757       0.992\n",
      "..    ...   ...        ...       ...         ...\n",
      "58      3  2015   55839540  10051117       1.534\n",
      "59      3  2016   62831507   8984906       2.229\n",
      "60      3  2017   47379810   8196707       1.437\n",
      "61      3  2018   51305540   9696747       1.278\n",
      "62      3  2019   52580890   8727023       1.040\n",
      "\n",
      "[63 rows x 5 columns]\n"
     ]
    }
   ],
   "source": [
    "print(df)"
   ]
  },
  {
   "cell_type": "code",
   "execution_count": 10,
   "id": "e1dc1b31",
   "metadata": {},
   "outputs": [
    {
     "data": {
      "text/html": [
       "<div>\n",
       "<style scoped>\n",
       "    .dataframe tbody tr th:only-of-type {\n",
       "        vertical-align: middle;\n",
       "    }\n",
       "\n",
       "    .dataframe tbody tr th {\n",
       "        vertical-align: top;\n",
       "    }\n",
       "\n",
       "    .dataframe thead th {\n",
       "        text-align: right;\n",
       "    }\n",
       "</style>\n",
       "<table border=\"1\" class=\"dataframe\">\n",
       "  <thead>\n",
       "    <tr style=\"text-align: right;\">\n",
       "      <th></th>\n",
       "      <th>Crops</th>\n",
       "      <th>Year</th>\n",
       "      <th>Tonnes</th>\n",
       "      <th>USD1000</th>\n",
       "      <th>TempChange</th>\n",
       "    </tr>\n",
       "  </thead>\n",
       "  <tbody>\n",
       "    <tr>\n",
       "      <th>0</th>\n",
       "      <td>1</td>\n",
       "      <td>1999</td>\n",
       "      <td>239548580</td>\n",
       "      <td>17247498</td>\n",
       "      <td>0.755</td>\n",
       "    </tr>\n",
       "    <tr>\n",
       "      <th>1</th>\n",
       "      <td>1</td>\n",
       "      <td>2000</td>\n",
       "      <td>251853900</td>\n",
       "      <td>18385335</td>\n",
       "      <td>1.000</td>\n",
       "    </tr>\n",
       "    <tr>\n",
       "      <th>2</th>\n",
       "      <td>1</td>\n",
       "      <td>2001</td>\n",
       "      <td>241376650</td>\n",
       "      <td>18827379</td>\n",
       "      <td>0.784</td>\n",
       "    </tr>\n",
       "    <tr>\n",
       "      <th>3</th>\n",
       "      <td>1</td>\n",
       "      <td>2002</td>\n",
       "      <td>227766880</td>\n",
       "      <td>20726786</td>\n",
       "      <td>0.953</td>\n",
       "    </tr>\n",
       "    <tr>\n",
       "      <th>4</th>\n",
       "      <td>1</td>\n",
       "      <td>2003</td>\n",
       "      <td>256229020</td>\n",
       "      <td>24341757</td>\n",
       "      <td>0.992</td>\n",
       "    </tr>\n",
       "  </tbody>\n",
       "</table>\n",
       "</div>"
      ],
      "text/plain": [
       "   Crops  Year     Tonnes   USD1000  TempChange\n",
       "0      1  1999  239548580  17247498       0.755\n",
       "1      1  2000  251853900  18385335       1.000\n",
       "2      1  2001  241376650  18827379       0.784\n",
       "3      1  2002  227766880  20726786       0.953\n",
       "4      1  2003  256229020  24341757       0.992"
      ]
     },
     "execution_count": 10,
     "metadata": {},
     "output_type": "execute_result"
    }
   ],
   "source": [
    "df.head()"
   ]
  },
  {
   "cell_type": "markdown",
   "id": "1903043f",
   "metadata": {},
   "source": [
    "## Correlation"
   ]
  },
  {
   "cell_type": "code",
   "execution_count": 11,
   "id": "54009ca1",
   "metadata": {},
   "outputs": [
    {
     "data": {
      "text/html": [
       "<div>\n",
       "<style scoped>\n",
       "    .dataframe tbody tr th:only-of-type {\n",
       "        vertical-align: middle;\n",
       "    }\n",
       "\n",
       "    .dataframe tbody tr th {\n",
       "        vertical-align: top;\n",
       "    }\n",
       "\n",
       "    .dataframe thead th {\n",
       "        text-align: right;\n",
       "    }\n",
       "</style>\n",
       "<table border=\"1\" class=\"dataframe\">\n",
       "  <thead>\n",
       "    <tr style=\"text-align: right;\">\n",
       "      <th></th>\n",
       "      <th>Crops</th>\n",
       "      <th>Year</th>\n",
       "      <th>Tonnes</th>\n",
       "      <th>USD1000</th>\n",
       "      <th>TempChange</th>\n",
       "    </tr>\n",
       "  </thead>\n",
       "  <tbody>\n",
       "    <tr>\n",
       "      <th>Crops</th>\n",
       "      <td>1.000000e+00</td>\n",
       "      <td>-3.100124e-14</td>\n",
       "      <td>-0.888102</td>\n",
       "      <td>-0.734551</td>\n",
       "      <td>-3.194985e-16</td>\n",
       "    </tr>\n",
       "    <tr>\n",
       "      <th>Year</th>\n",
       "      <td>-3.100124e-14</td>\n",
       "      <td>1.000000e+00</td>\n",
       "      <td>0.159694</td>\n",
       "      <td>0.450929</td>\n",
       "      <td>3.434782e-01</td>\n",
       "    </tr>\n",
       "    <tr>\n",
       "      <th>Tonnes</th>\n",
       "      <td>-8.881017e-01</td>\n",
       "      <td>1.596937e-01</td>\n",
       "      <td>1.000000</td>\n",
       "      <td>0.742385</td>\n",
       "      <td>6.486449e-02</td>\n",
       "    </tr>\n",
       "    <tr>\n",
       "      <th>USD1000</th>\n",
       "      <td>-7.345509e-01</td>\n",
       "      <td>4.509294e-01</td>\n",
       "      <td>0.742385</td>\n",
       "      <td>1.000000</td>\n",
       "      <td>4.026271e-02</td>\n",
       "    </tr>\n",
       "    <tr>\n",
       "      <th>TempChange</th>\n",
       "      <td>-3.194985e-16</td>\n",
       "      <td>3.434782e-01</td>\n",
       "      <td>0.064864</td>\n",
       "      <td>0.040263</td>\n",
       "      <td>1.000000e+00</td>\n",
       "    </tr>\n",
       "  </tbody>\n",
       "</table>\n",
       "</div>"
      ],
      "text/plain": [
       "                   Crops          Year    Tonnes   USD1000    TempChange\n",
       "Crops       1.000000e+00 -3.100124e-14 -0.888102 -0.734551 -3.194985e-16\n",
       "Year       -3.100124e-14  1.000000e+00  0.159694  0.450929  3.434782e-01\n",
       "Tonnes     -8.881017e-01  1.596937e-01  1.000000  0.742385  6.486449e-02\n",
       "USD1000    -7.345509e-01  4.509294e-01  0.742385  1.000000  4.026271e-02\n",
       "TempChange -3.194985e-16  3.434782e-01  0.064864  0.040263  1.000000e+00"
      ]
     },
     "execution_count": 11,
     "metadata": {},
     "output_type": "execute_result"
    }
   ],
   "source": [
    "df.corr(method='pearson')"
   ]
  },
  {
   "cell_type": "markdown",
   "id": "915a88d6",
   "metadata": {},
   "source": [
    "## HeatMap"
   ]
  },
  {
   "cell_type": "code",
   "execution_count": 12,
   "id": "85eb1247",
   "metadata": {},
   "outputs": [
    {
     "data": {
      "text/plain": [
       "<AxesSubplot:>"
      ]
     },
     "execution_count": 12,
     "metadata": {},
     "output_type": "execute_result"
    },
    {
     "data": {
      "image/png": "[encoded data removed]",
      "text/plain": [
       "<Figure size 432x288 with 2 Axes>"
      ]
     },
     "metadata": {
      "needs_background": "light"
     },
     "output_type": "display_data"
    }
   ],
   "source": [
    "sns.heatmap(df.corr(), annot=True)"
   ]
  },
  {
   "cell_type": "markdown",
   "id": "19206f7d",
   "metadata": {},
   "source": [
    "#### The strongest correlation we have based on the heatmap is the Tonnes and the USD1000 with a 0.74, secondly would be the year and the USD1000 with a 0.45, and thirdly is the TempChange and the Year with a 0.34. That shows a positive correlation. That menas as the tonnes increases the USD1000 increases, as the Year increases the USD1000 increases, as the year increases the TempChange increases and vice versa."
   ]
  },
  {
   "cell_type": "code",
   "execution_count": null,
   "id": "fa0259f2",
   "metadata": {},
   "outputs": [],
   "source": []
  }
 ],
 "metadata": {
  "kernelspec": {
   "display_name": "Python 3",
   "language": "python",
   "name": "python3"
  },
  "language_info": {
   "codemirror_mode": {
    "name": "ipython",
    "version": 3
   },
   "file_extension": ".py",
   "mimetype": "text/x-python",
   "name": "python",
   "nbconvert_exporter": "python",
   "pygments_lexer": "ipython3",
   "version": "3.8.8"
  }
 },
 "nbformat": 4,
 "nbformat_minor": 5
}
