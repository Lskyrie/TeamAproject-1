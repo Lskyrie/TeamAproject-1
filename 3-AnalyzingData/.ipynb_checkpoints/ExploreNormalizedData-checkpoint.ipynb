{
 "cells": [
  {
   "cell_type": "code",
   "execution_count": 1,
   "id": "e4cf92f9-2921-43ab-a580-f174a2478595",
   "metadata": {},
   "outputs": [],
   "source": [
    "import pandas as pd"
   ]
  },
  {
   "cell_type": "code",
   "execution_count": 2,
   "id": "c8e2fdbd-4653-4e9d-9c9a-665a4c7283e8",
   "metadata": {},
   "outputs": [],
   "source": [
    "Explore_data = pd.read_csv(\"../Data/Normalized Datasets/NormalizedMergedData.csv\")"
   ]
  },
  {
   "cell_type": "code",
   "execution_count": 3,
   "id": "63a2c2a8-dca9-4c62-a06c-74d22febf38c",
   "metadata": {},
   "outputs": [
    {
     "data": {
      "text/html": [
       "<div>\n",
       "<style scoped>\n",
       "    .dataframe tbody tr th:only-of-type {\n",
       "        vertical-align: middle;\n",
       "    }\n",
       "\n",
       "    .dataframe tbody tr th {\n",
       "        vertical-align: top;\n",
       "    }\n",
       "\n",
       "    .dataframe thead th {\n",
       "        text-align: right;\n",
       "    }\n",
       "</style>\n",
       "<table border=\"1\" class=\"dataframe\">\n",
       "  <thead>\n",
       "    <tr style=\"text-align: right;\">\n",
       "      <th></th>\n",
       "      <th>Crops</th>\n",
       "      <th>Year</th>\n",
       "      <th>Value in Tonnes</th>\n",
       "      <th>Value in US$1000</th>\n",
       "      <th>Temperature Change</th>\n",
       "    </tr>\n",
       "  </thead>\n",
       "  <tbody>\n",
       "    <tr>\n",
       "      <th>0</th>\n",
       "      <td>Maize</td>\n",
       "      <td>1999</td>\n",
       "      <td>239548580.0</td>\n",
       "      <td>17247498.0</td>\n",
       "      <td>0.755</td>\n",
       "    </tr>\n",
       "    <tr>\n",
       "      <th>1</th>\n",
       "      <td>Soybeans</td>\n",
       "      <td>1999</td>\n",
       "      <td>72223460.0</td>\n",
       "      <td>12277988.0</td>\n",
       "      <td>0.755</td>\n",
       "    </tr>\n",
       "    <tr>\n",
       "      <th>2</th>\n",
       "      <td>Wheat</td>\n",
       "      <td>1999</td>\n",
       "      <td>62567284.0</td>\n",
       "      <td>5693623.0</td>\n",
       "      <td>0.755</td>\n",
       "    </tr>\n",
       "    <tr>\n",
       "      <th>3</th>\n",
       "      <td>Maize</td>\n",
       "      <td>2000</td>\n",
       "      <td>251853900.0</td>\n",
       "      <td>18385335.0</td>\n",
       "      <td>1.000</td>\n",
       "    </tr>\n",
       "    <tr>\n",
       "      <th>4</th>\n",
       "      <td>Soybeans</td>\n",
       "      <td>2000</td>\n",
       "      <td>75055290.0</td>\n",
       "      <td>12534233.0</td>\n",
       "      <td>1.000</td>\n",
       "    </tr>\n",
       "  </tbody>\n",
       "</table>\n",
       "</div>"
      ],
      "text/plain": [
       "      Crops  Year  Value in Tonnes  Value in US$1000  Temperature Change\n",
       "0     Maize  1999      239548580.0        17247498.0               0.755\n",
       "1  Soybeans  1999       72223460.0        12277988.0               0.755\n",
       "2     Wheat  1999       62567284.0         5693623.0               0.755\n",
       "3     Maize  2000      251853900.0        18385335.0               1.000\n",
       "4  Soybeans  2000       75055290.0        12534233.0               1.000"
      ]
     },
     "execution_count": 3,
     "metadata": {},
     "output_type": "execute_result"
    }
   ],
   "source": [
    "Explore_data.head()"
   ]
  },
  {
   "cell_type": "code",
   "execution_count": null,
   "id": "741fa4b6-2788-4b1f-942e-5b7a056dc43b",
   "metadata": {},
   "outputs": [],
   "source": []
  }
 ],
 "metadata": {
  "kernelspec": {
   "display_name": "Python 3",
   "language": "python",
   "name": "python3"
  },
  "language_info": {
   "codemirror_mode": {
    "name": "ipython",
    "version": 3
   },
   "file_extension": ".py",
   "mimetype": "text/x-python",
   "name": "python",
   "nbconvert_exporter": "python",
   "pygments_lexer": "ipython3",
   "version": "3.8.8"
  }
 },
 "nbformat": 4,
 "nbformat_minor": 5
}
