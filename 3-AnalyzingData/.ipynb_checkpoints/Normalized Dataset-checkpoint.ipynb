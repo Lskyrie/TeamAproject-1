{
 "cells": [
  {
   "cell_type": "markdown",
   "id": "e611a2cb",
   "metadata": {},
   "source": [
    "# Cleaning the Normalized Data"
   ]
  },
  {
   "cell_type": "markdown",
   "id": "1b739160",
   "metadata": {},
   "source": [
    "## Importing Packages"
   ]
  },
  {
   "cell_type": "code",
   "execution_count": 1,
   "id": "07123f35",
   "metadata": {},
   "outputs": [],
   "source": [
    "import pandas as pd"
   ]
  },
  {
   "cell_type": "markdown",
   "id": "e7b6b3d6",
   "metadata": {},
   "source": [
    "## Importing DataSets"
   ]
  },
  {
   "cell_type": "code",
   "execution_count": 2,
   "id": "c2ccb7f9",
   "metadata": {},
   "outputs": [
    {
     "ename": "FileNotFoundError",
     "evalue": "[Errno 2] No such file or directory: 'C:/Users/David/Documents/vitu za maana/Education/Data Science Program/21 Final Project/Submitting Folder/Week2/Raw DataSets/Normalized_Crops.csv'",
     "output_type": "error",
     "traceback": [
      "\u001b[1;31m---------------------------------------------------------------------------\u001b[0m",
      "\u001b[1;31mFileNotFoundError\u001b[0m                         Traceback (most recent call last)",
      "\u001b[1;32m<ipython-input-2-b8c4bfc411eb>\u001b[0m in \u001b[0;36m<module>\u001b[1;34m\u001b[0m\n\u001b[1;32m----> 1\u001b[1;33m \u001b[0mCropsProduction\u001b[0m \u001b[1;33m=\u001b[0m \u001b[0mpd\u001b[0m\u001b[1;33m.\u001b[0m\u001b[0mread_csv\u001b[0m\u001b[1;33m(\u001b[0m\u001b[1;34m'C:/Users/David/Documents/vitu za maana/Education/Data Science Program/21 Final Project/Submitting Folder/Week2/Raw DataSets/Normalized_Crops.csv'\u001b[0m\u001b[1;33m)\u001b[0m\u001b[1;33m\u001b[0m\u001b[1;33m\u001b[0m\u001b[0m\n\u001b[0m",
      "\u001b[1;32m~\\anaconda3\\lib\\site-packages\\pandas\\io\\parsers.py\u001b[0m in \u001b[0;36mread_csv\u001b[1;34m(filepath_or_buffer, sep, delimiter, header, names, index_col, usecols, squeeze, prefix, mangle_dupe_cols, dtype, engine, converters, true_values, false_values, skipinitialspace, skiprows, skipfooter, nrows, na_values, keep_default_na, na_filter, verbose, skip_blank_lines, parse_dates, infer_datetime_format, keep_date_col, date_parser, dayfirst, cache_dates, iterator, chunksize, compression, thousands, decimal, lineterminator, quotechar, quoting, doublequote, escapechar, comment, encoding, dialect, error_bad_lines, warn_bad_lines, delim_whitespace, low_memory, memory_map, float_precision, storage_options)\u001b[0m\n\u001b[0;32m    608\u001b[0m     \u001b[0mkwds\u001b[0m\u001b[1;33m.\u001b[0m\u001b[0mupdate\u001b[0m\u001b[1;33m(\u001b[0m\u001b[0mkwds_defaults\u001b[0m\u001b[1;33m)\u001b[0m\u001b[1;33m\u001b[0m\u001b[1;33m\u001b[0m\u001b[0m\n\u001b[0;32m    609\u001b[0m \u001b[1;33m\u001b[0m\u001b[0m\n\u001b[1;32m--> 610\u001b[1;33m     \u001b[1;32mreturn\u001b[0m \u001b[0m_read\u001b[0m\u001b[1;33m(\u001b[0m\u001b[0mfilepath_or_buffer\u001b[0m\u001b[1;33m,\u001b[0m \u001b[0mkwds\u001b[0m\u001b[1;33m)\u001b[0m\u001b[1;33m\u001b[0m\u001b[1;33m\u001b[0m\u001b[0m\n\u001b[0m\u001b[0;32m    611\u001b[0m \u001b[1;33m\u001b[0m\u001b[0m\n\u001b[0;32m    612\u001b[0m \u001b[1;33m\u001b[0m\u001b[0m\n",
      "\u001b[1;32m~\\anaconda3\\lib\\site-packages\\pandas\\io\\parsers.py\u001b[0m in \u001b[0;36m_read\u001b[1;34m(filepath_or_buffer, kwds)\u001b[0m\n\u001b[0;32m    460\u001b[0m \u001b[1;33m\u001b[0m\u001b[0m\n\u001b[0;32m    461\u001b[0m     \u001b[1;31m# Create the parser.\u001b[0m\u001b[1;33m\u001b[0m\u001b[1;33m\u001b[0m\u001b[1;33m\u001b[0m\u001b[0m\n\u001b[1;32m--> 462\u001b[1;33m     \u001b[0mparser\u001b[0m \u001b[1;33m=\u001b[0m \u001b[0mTextFileReader\u001b[0m\u001b[1;33m(\u001b[0m\u001b[0mfilepath_or_buffer\u001b[0m\u001b[1;33m,\u001b[0m \u001b[1;33m**\u001b[0m\u001b[0mkwds\u001b[0m\u001b[1;33m)\u001b[0m\u001b[1;33m\u001b[0m\u001b[1;33m\u001b[0m\u001b[0m\n\u001b[0m\u001b[0;32m    463\u001b[0m \u001b[1;33m\u001b[0m\u001b[0m\n\u001b[0;32m    464\u001b[0m     \u001b[1;32mif\u001b[0m \u001b[0mchunksize\u001b[0m \u001b[1;32mor\u001b[0m \u001b[0miterator\u001b[0m\u001b[1;33m:\u001b[0m\u001b[1;33m\u001b[0m\u001b[1;33m\u001b[0m\u001b[0m\n",
      "\u001b[1;32m~\\anaconda3\\lib\\site-packages\\pandas\\io\\parsers.py\u001b[0m in \u001b[0;36m__init__\u001b[1;34m(self, f, engine, **kwds)\u001b[0m\n\u001b[0;32m    817\u001b[0m             \u001b[0mself\u001b[0m\u001b[1;33m.\u001b[0m\u001b[0moptions\u001b[0m\u001b[1;33m[\u001b[0m\u001b[1;34m\"has_index_names\"\u001b[0m\u001b[1;33m]\u001b[0m \u001b[1;33m=\u001b[0m \u001b[0mkwds\u001b[0m\u001b[1;33m[\u001b[0m\u001b[1;34m\"has_index_names\"\u001b[0m\u001b[1;33m]\u001b[0m\u001b[1;33m\u001b[0m\u001b[1;33m\u001b[0m\u001b[0m\n\u001b[0;32m    818\u001b[0m \u001b[1;33m\u001b[0m\u001b[0m\n\u001b[1;32m--> 819\u001b[1;33m         \u001b[0mself\u001b[0m\u001b[1;33m.\u001b[0m\u001b[0m_engine\u001b[0m \u001b[1;33m=\u001b[0m \u001b[0mself\u001b[0m\u001b[1;33m.\u001b[0m\u001b[0m_make_engine\u001b[0m\u001b[1;33m(\u001b[0m\u001b[0mself\u001b[0m\u001b[1;33m.\u001b[0m\u001b[0mengine\u001b[0m\u001b[1;33m)\u001b[0m\u001b[1;33m\u001b[0m\u001b[1;33m\u001b[0m\u001b[0m\n\u001b[0m\u001b[0;32m    820\u001b[0m \u001b[1;33m\u001b[0m\u001b[0m\n\u001b[0;32m    821\u001b[0m     \u001b[1;32mdef\u001b[0m \u001b[0mclose\u001b[0m\u001b[1;33m(\u001b[0m\u001b[0mself\u001b[0m\u001b[1;33m)\u001b[0m\u001b[1;33m:\u001b[0m\u001b[1;33m\u001b[0m\u001b[1;33m\u001b[0m\u001b[0m\n",
      "\u001b[1;32m~\\anaconda3\\lib\\site-packages\\pandas\\io\\parsers.py\u001b[0m in \u001b[0;36m_make_engine\u001b[1;34m(self, engine)\u001b[0m\n\u001b[0;32m   1048\u001b[0m             )\n\u001b[0;32m   1049\u001b[0m         \u001b[1;31m# error: Too many arguments for \"ParserBase\"\u001b[0m\u001b[1;33m\u001b[0m\u001b[1;33m\u001b[0m\u001b[1;33m\u001b[0m\u001b[0m\n\u001b[1;32m-> 1050\u001b[1;33m         \u001b[1;32mreturn\u001b[0m \u001b[0mmapping\u001b[0m\u001b[1;33m[\u001b[0m\u001b[0mengine\u001b[0m\u001b[1;33m]\u001b[0m\u001b[1;33m(\u001b[0m\u001b[0mself\u001b[0m\u001b[1;33m.\u001b[0m\u001b[0mf\u001b[0m\u001b[1;33m,\u001b[0m \u001b[1;33m**\u001b[0m\u001b[0mself\u001b[0m\u001b[1;33m.\u001b[0m\u001b[0moptions\u001b[0m\u001b[1;33m)\u001b[0m  \u001b[1;31m# type: ignore[call-arg]\u001b[0m\u001b[1;33m\u001b[0m\u001b[1;33m\u001b[0m\u001b[0m\n\u001b[0m\u001b[0;32m   1051\u001b[0m \u001b[1;33m\u001b[0m\u001b[0m\n\u001b[0;32m   1052\u001b[0m     \u001b[1;32mdef\u001b[0m \u001b[0m_failover_to_python\u001b[0m\u001b[1;33m(\u001b[0m\u001b[0mself\u001b[0m\u001b[1;33m)\u001b[0m\u001b[1;33m:\u001b[0m\u001b[1;33m\u001b[0m\u001b[1;33m\u001b[0m\u001b[0m\n",
      "\u001b[1;32m~\\anaconda3\\lib\\site-packages\\pandas\\io\\parsers.py\u001b[0m in \u001b[0;36m__init__\u001b[1;34m(self, src, **kwds)\u001b[0m\n\u001b[0;32m   1865\u001b[0m \u001b[1;33m\u001b[0m\u001b[0m\n\u001b[0;32m   1866\u001b[0m         \u001b[1;31m# open handles\u001b[0m\u001b[1;33m\u001b[0m\u001b[1;33m\u001b[0m\u001b[1;33m\u001b[0m\u001b[0m\n\u001b[1;32m-> 1867\u001b[1;33m         \u001b[0mself\u001b[0m\u001b[1;33m.\u001b[0m\u001b[0m_open_handles\u001b[0m\u001b[1;33m(\u001b[0m\u001b[0msrc\u001b[0m\u001b[1;33m,\u001b[0m \u001b[0mkwds\u001b[0m\u001b[1;33m)\u001b[0m\u001b[1;33m\u001b[0m\u001b[1;33m\u001b[0m\u001b[0m\n\u001b[0m\u001b[0;32m   1868\u001b[0m         \u001b[1;32massert\u001b[0m \u001b[0mself\u001b[0m\u001b[1;33m.\u001b[0m\u001b[0mhandles\u001b[0m \u001b[1;32mis\u001b[0m \u001b[1;32mnot\u001b[0m \u001b[1;32mNone\u001b[0m\u001b[1;33m\u001b[0m\u001b[1;33m\u001b[0m\u001b[0m\n\u001b[0;32m   1869\u001b[0m         \u001b[1;32mfor\u001b[0m \u001b[0mkey\u001b[0m \u001b[1;32min\u001b[0m \u001b[1;33m(\u001b[0m\u001b[1;34m\"storage_options\"\u001b[0m\u001b[1;33m,\u001b[0m \u001b[1;34m\"encoding\"\u001b[0m\u001b[1;33m,\u001b[0m \u001b[1;34m\"memory_map\"\u001b[0m\u001b[1;33m,\u001b[0m \u001b[1;34m\"compression\"\u001b[0m\u001b[1;33m)\u001b[0m\u001b[1;33m:\u001b[0m\u001b[1;33m\u001b[0m\u001b[1;33m\u001b[0m\u001b[0m\n",
      "\u001b[1;32m~\\anaconda3\\lib\\site-packages\\pandas\\io\\parsers.py\u001b[0m in \u001b[0;36m_open_handles\u001b[1;34m(self, src, kwds)\u001b[0m\n\u001b[0;32m   1360\u001b[0m         \u001b[0mLet\u001b[0m \u001b[0mthe\u001b[0m \u001b[0mreaders\u001b[0m \u001b[0mopen\u001b[0m \u001b[0mIOHanldes\u001b[0m \u001b[0mafter\u001b[0m \u001b[0mthey\u001b[0m \u001b[0mare\u001b[0m \u001b[0mdone\u001b[0m \u001b[1;32mwith\u001b[0m \u001b[0mtheir\u001b[0m \u001b[0mpotential\u001b[0m \u001b[0mraises\u001b[0m\u001b[1;33m.\u001b[0m\u001b[1;33m\u001b[0m\u001b[1;33m\u001b[0m\u001b[0m\n\u001b[0;32m   1361\u001b[0m         \"\"\"\n\u001b[1;32m-> 1362\u001b[1;33m         self.handles = get_handle(\n\u001b[0m\u001b[0;32m   1363\u001b[0m             \u001b[0msrc\u001b[0m\u001b[1;33m,\u001b[0m\u001b[1;33m\u001b[0m\u001b[1;33m\u001b[0m\u001b[0m\n\u001b[0;32m   1364\u001b[0m             \u001b[1;34m\"r\"\u001b[0m\u001b[1;33m,\u001b[0m\u001b[1;33m\u001b[0m\u001b[1;33m\u001b[0m\u001b[0m\n",
      "\u001b[1;32m~\\anaconda3\\lib\\site-packages\\pandas\\io\\common.py\u001b[0m in \u001b[0;36mget_handle\u001b[1;34m(path_or_buf, mode, encoding, compression, memory_map, is_text, errors, storage_options)\u001b[0m\n\u001b[0;32m    640\u001b[0m                 \u001b[0merrors\u001b[0m \u001b[1;33m=\u001b[0m \u001b[1;34m\"replace\"\u001b[0m\u001b[1;33m\u001b[0m\u001b[1;33m\u001b[0m\u001b[0m\n\u001b[0;32m    641\u001b[0m             \u001b[1;31m# Encoding\u001b[0m\u001b[1;33m\u001b[0m\u001b[1;33m\u001b[0m\u001b[1;33m\u001b[0m\u001b[0m\n\u001b[1;32m--> 642\u001b[1;33m             handle = open(\n\u001b[0m\u001b[0;32m    643\u001b[0m                 \u001b[0mhandle\u001b[0m\u001b[1;33m,\u001b[0m\u001b[1;33m\u001b[0m\u001b[1;33m\u001b[0m\u001b[0m\n\u001b[0;32m    644\u001b[0m                 \u001b[0mioargs\u001b[0m\u001b[1;33m.\u001b[0m\u001b[0mmode\u001b[0m\u001b[1;33m,\u001b[0m\u001b[1;33m\u001b[0m\u001b[1;33m\u001b[0m\u001b[0m\n",
      "\u001b[1;31mFileNotFoundError\u001b[0m: [Errno 2] No such file or directory: 'C:/Users/David/Documents/vitu za maana/Education/Data Science Program/21 Final Project/Submitting Folder/Week2/Raw DataSets/Normalized_Crops.csv'"
     ]
    }
   ],
   "source": [
    "CropsProduction = pd.read_csv('C:/Users/David/Documents/vitu za maana/Education/Data Science Program/21 Final Project/Submitting Folder/Week2/Raw DataSets/Normalized_Crops.csv')"
   ]
  },
  {
   "cell_type": "code",
   "execution_count": null,
   "id": "0333b259",
   "metadata": {},
   "outputs": [],
   "source": [
    "CropsProduction.head()"
   ]
  },
  {
   "cell_type": "code",
   "execution_count": 3,
   "id": "5a8bce98",
   "metadata": {},
   "outputs": [
    {
     "ename": "NameError",
     "evalue": "name 'CropsProduction' is not defined",
     "output_type": "error",
     "traceback": [
      "\u001b[1;31m---------------------------------------------------------------------------\u001b[0m",
      "\u001b[1;31mNameError\u001b[0m                                 Traceback (most recent call last)",
      "\u001b[1;32m<ipython-input-3-85f4cbe0ac5e>\u001b[0m in \u001b[0;36m<module>\u001b[1;34m\u001b[0m\n\u001b[1;32m----> 1\u001b[1;33m \u001b[0mprint\u001b[0m\u001b[1;33m(\u001b[0m\u001b[0mCropsProduction\u001b[0m\u001b[1;33m)\u001b[0m\u001b[1;33m\u001b[0m\u001b[1;33m\u001b[0m\u001b[0m\n\u001b[0m",
      "\u001b[1;31mNameError\u001b[0m: name 'CropsProduction' is not defined"
     ]
    }
   ],
   "source": [
    "print(CropsProduction)"
   ]
  },
  {
   "cell_type": "markdown",
   "id": "672ad2d2",
   "metadata": {},
   "source": []
  },
  {
   "cell_type": "code",
   "execution_count": 10,
   "id": "75febc60",
   "metadata": {},
   "outputs": [],
   "source": [
    "ValueOfCrops= pd.read_csv('C:/Users/David/Documents/vitu za maana/Education/Data Science Program/21 Final Project/Submitting Folder/Week2/Raw DataSets/Value_of_Crops_normalized.csv')"
   ]
  },
  {
   "cell_type": "code",
   "execution_count": 11,
   "id": "82b2beb8",
   "metadata": {},
   "outputs": [
    {
     "name": "stdout",
     "output_type": "stream",
     "text": [
      "         Area Code                                     Area  Item Code  \\\n",
      "0                2                              Afghanistan        221   \n",
      "1                2                              Afghanistan        221   \n",
      "2                2                              Afghanistan        221   \n",
      "3                2                              Afghanistan        221   \n",
      "4                2                              Afghanistan        221   \n",
      "...            ...                                      ...        ...   \n",
      "3213513       5817  Net Food Importing Developing Countries       1739   \n",
      "3213514       5817  Net Food Importing Developing Countries       1739   \n",
      "3213515       5817  Net Food Importing Developing Countries       1739   \n",
      "3213516       5817  Net Food Importing Developing Countries       1739   \n",
      "3213517       5817  Net Food Importing Developing Countries       1739   \n",
      "\n",
      "                                 Item  Element Code  \\\n",
      "0                 Almonds, with shell           152   \n",
      "1                 Almonds, with shell           152   \n",
      "2                 Almonds, with shell           152   \n",
      "3                 Almonds, with shell           152   \n",
      "4                 Almonds, with shell           152   \n",
      "...                               ...           ...   \n",
      "3213513  Vegetables and Fruit Primary            58   \n",
      "3213514  Vegetables and Fruit Primary            58   \n",
      "3213515  Vegetables and Fruit Primary            58   \n",
      "3213516  Vegetables and Fruit Primary            58   \n",
      "3213517  Vegetables and Fruit Primary            58   \n",
      "\n",
      "                                                   Element  Year Code  Year  \\\n",
      "0        Gross Production Value (constant 2014-2016 tho...       1976  1976   \n",
      "1        Gross Production Value (constant 2014-2016 tho...       1977  1977   \n",
      "2        Gross Production Value (constant 2014-2016 tho...       1978  1978   \n",
      "3        Gross Production Value (constant 2014-2016 tho...       1979  1979   \n",
      "4        Gross Production Value (constant 2014-2016 tho...       1980  1980   \n",
      "...                                                    ...        ...   ...   \n",
      "3213513  Gross Production Value (constant 2014-2016 tho...       2014  2014   \n",
      "3213514  Gross Production Value (constant 2014-2016 tho...       2015  2015   \n",
      "3213515  Gross Production Value (constant 2014-2016 tho...       2016  2016   \n",
      "3213516  Gross Production Value (constant 2014-2016 tho...       2017  2017   \n",
      "3213517  Gross Production Value (constant 2014-2016 tho...       2018  2018   \n",
      "\n",
      "                Unit       Value Flag  \n",
      "0        1000 Int. $     49550.0   Fc  \n",
      "1        1000 Int. $     45505.0   Fc  \n",
      "2        1000 Int. $     60673.0   Fc  \n",
      "3        1000 Int. $     53089.0   Fc  \n",
      "4        1000 Int. $     50055.0   Fc  \n",
      "...              ...         ...  ...  \n",
      "3213513     1000 US$  62007241.0    A  \n",
      "3213514     1000 US$  64558239.0    A  \n",
      "3213515     1000 US$  65009417.0    A  \n",
      "3213516     1000 US$  66273307.0    A  \n",
      "3213517     1000 US$  68463998.0    A  \n",
      "\n",
      "[3213518 rows x 11 columns]\n"
     ]
    }
   ],
   "source": [
    "print(ValueOfCrops)"
   ]
  },
  {
   "cell_type": "code",
   "execution_count": 12,
   "id": "7c661836",
   "metadata": {},
   "outputs": [],
   "source": [
    "TempChanges = pd.read_csv('C:/Users/David/Documents/vitu za maana/Education/Data Science Program/21 Final Project/Submitting Folder/Week2/Raw DataSets/Temperature_change_Normalized.csv')"
   ]
  },
  {
   "cell_type": "code",
   "execution_count": 13,
   "id": "4af4369b",
   "metadata": {},
   "outputs": [
    {
     "name": "stdout",
     "output_type": "stream",
     "text": [
      "        Area Code         Area  Months Code               Months  \\\n",
      "0               2  Afghanistan         7001              January   \n",
      "1               2  Afghanistan         7001              January   \n",
      "2               2  Afghanistan         7001              January   \n",
      "3               2  Afghanistan         7001              January   \n",
      "4               2  Afghanistan         7001              January   \n",
      "...           ...          ...          ...                  ...   \n",
      "537365       5873         OECD         7020  Meteorological year   \n",
      "537366       5873         OECD         7020  Meteorological year   \n",
      "537367       5873         OECD         7020  Meteorological year   \n",
      "537368       5873         OECD         7020  Meteorological year   \n",
      "537369       5873         OECD         7020  Meteorological year   \n",
      "\n",
      "        Element Code             Element  Year Code  Year Unit  Value Flag  \n",
      "0               7271  Temperature change       1961  1961   �C  0.746   Fc  \n",
      "1               7271  Temperature change       1962  1962   �C  0.009   Fc  \n",
      "2               7271  Temperature change       1963  1963   �C  2.695   Fc  \n",
      "3               7271  Temperature change       1964  1964   �C -5.277   Fc  \n",
      "4               7271  Temperature change       1965  1965   �C  1.827   Fc  \n",
      "...              ...                 ...        ...   ...  ...    ...  ...  \n",
      "537365          6078  Standard Deviation       2016  2016   �C  0.261   Fc  \n",
      "537366          6078  Standard Deviation       2017  2017   �C  0.261   Fc  \n",
      "537367          6078  Standard Deviation       2018  2018   �C  0.261   Fc  \n",
      "537368          6078  Standard Deviation       2019  2019   �C  0.261   Fc  \n",
      "537369          6078  Standard Deviation       2020  2020   �C  0.261   Fc  \n",
      "\n",
      "[537370 rows x 11 columns]\n"
     ]
    }
   ],
   "source": [
    "print(TempChanges)"
   ]
  },
  {
   "cell_type": "markdown",
   "id": "d97c3b7f",
   "metadata": {},
   "source": [
    "## Cleaning Datasets"
   ]
  },
  {
   "cell_type": "markdown",
   "id": "c4fdcb67",
   "metadata": {},
   "source": [
    "### Dropping Rows"
   ]
  },
  {
   "cell_type": "code",
   "execution_count": 25,
   "id": "44152044",
   "metadata": {},
   "outputs": [],
   "source": [
    "CropsProductionusa = CropsProduction.loc[CropsProduction['Area']=='United States of America']"
   ]
  },
  {
   "cell_type": "code",
   "execution_count": 26,
   "id": "88dbd31e",
   "metadata": {},
   "outputs": [
    {
     "data": {
      "text/html": [
       "<div>\n",
       "<style scoped>\n",
       "    .dataframe tbody tr th:only-of-type {\n",
       "        vertical-align: middle;\n",
       "    }\n",
       "\n",
       "    .dataframe tbody tr th {\n",
       "        vertical-align: top;\n",
       "    }\n",
       "\n",
       "    .dataframe thead th {\n",
       "        text-align: right;\n",
       "    }\n",
       "</style>\n",
       "<table border=\"1\" class=\"dataframe\">\n",
       "  <thead>\n",
       "    <tr style=\"text-align: right;\">\n",
       "      <th></th>\n",
       "      <th>Area Code</th>\n",
       "      <th>Area</th>\n",
       "      <th>Item Code</th>\n",
       "      <th>Item</th>\n",
       "      <th>Element Code</th>\n",
       "      <th>Element</th>\n",
       "      <th>Year Code</th>\n",
       "      <th>Year</th>\n",
       "      <th>Unit</th>\n",
       "      <th>Value</th>\n",
       "      <th>Flag</th>\n",
       "    </tr>\n",
       "  </thead>\n",
       "  <tbody>\n",
       "    <tr>\n",
       "      <th>2651510</th>\n",
       "      <td>231</td>\n",
       "      <td>United States of America</td>\n",
       "      <td>221</td>\n",
       "      <td>Almonds, with shell</td>\n",
       "      <td>5312</td>\n",
       "      <td>Area harvested</td>\n",
       "      <td>1961</td>\n",
       "      <td>1961</td>\n",
       "      <td>ha</td>\n",
       "      <td>36138.0</td>\n",
       "      <td>NaN</td>\n",
       "    </tr>\n",
       "    <tr>\n",
       "      <th>2651511</th>\n",
       "      <td>231</td>\n",
       "      <td>United States of America</td>\n",
       "      <td>221</td>\n",
       "      <td>Almonds, with shell</td>\n",
       "      <td>5312</td>\n",
       "      <td>Area harvested</td>\n",
       "      <td>1962</td>\n",
       "      <td>1962</td>\n",
       "      <td>ha</td>\n",
       "      <td>37676.0</td>\n",
       "      <td>NaN</td>\n",
       "    </tr>\n",
       "    <tr>\n",
       "      <th>2651512</th>\n",
       "      <td>231</td>\n",
       "      <td>United States of America</td>\n",
       "      <td>221</td>\n",
       "      <td>Almonds, with shell</td>\n",
       "      <td>5312</td>\n",
       "      <td>Area harvested</td>\n",
       "      <td>1963</td>\n",
       "      <td>1963</td>\n",
       "      <td>ha</td>\n",
       "      <td>39578.0</td>\n",
       "      <td>NaN</td>\n",
       "    </tr>\n",
       "    <tr>\n",
       "      <th>2651513</th>\n",
       "      <td>231</td>\n",
       "      <td>United States of America</td>\n",
       "      <td>221</td>\n",
       "      <td>Almonds, with shell</td>\n",
       "      <td>5312</td>\n",
       "      <td>Area harvested</td>\n",
       "      <td>1964</td>\n",
       "      <td>1964</td>\n",
       "      <td>ha</td>\n",
       "      <td>41196.0</td>\n",
       "      <td>NaN</td>\n",
       "    </tr>\n",
       "    <tr>\n",
       "      <th>2651514</th>\n",
       "      <td>231</td>\n",
       "      <td>United States of America</td>\n",
       "      <td>221</td>\n",
       "      <td>Almonds, with shell</td>\n",
       "      <td>5312</td>\n",
       "      <td>Area harvested</td>\n",
       "      <td>1965</td>\n",
       "      <td>1965</td>\n",
       "      <td>ha</td>\n",
       "      <td>47469.0</td>\n",
       "      <td>NaN</td>\n",
       "    </tr>\n",
       "  </tbody>\n",
       "</table>\n",
       "</div>"
      ],
      "text/plain": [
       "         Area Code                      Area  Item Code                 Item  \\\n",
       "2651510        231  United States of America        221  Almonds, with shell   \n",
       "2651511        231  United States of America        221  Almonds, with shell   \n",
       "2651512        231  United States of America        221  Almonds, with shell   \n",
       "2651513        231  United States of America        221  Almonds, with shell   \n",
       "2651514        231  United States of America        221  Almonds, with shell   \n",
       "\n",
       "         Element Code         Element  Year Code  Year Unit    Value Flag  \n",
       "2651510          5312  Area harvested       1961  1961   ha  36138.0  NaN  \n",
       "2651511          5312  Area harvested       1962  1962   ha  37676.0  NaN  \n",
       "2651512          5312  Area harvested       1963  1963   ha  39578.0  NaN  \n",
       "2651513          5312  Area harvested       1964  1964   ha  41196.0  NaN  \n",
       "2651514          5312  Area harvested       1965  1965   ha  47469.0  NaN  "
      ]
     },
     "execution_count": 26,
     "metadata": {},
     "output_type": "execute_result"
    }
   ],
   "source": [
    "CropsProductionusa.head()"
   ]
  },
  {
   "cell_type": "code",
   "execution_count": 28,
   "id": "df203dfe",
   "metadata": {},
   "outputs": [],
   "source": [
    "CropsProductionusa2 = CropsProductionusa.loc[CropsProductionusa['Item'].isin(['Maize','Soybeans','Wheat'])]"
   ]
  },
  {
   "cell_type": "code",
   "execution_count": 29,
   "id": "d727461c",
   "metadata": {},
   "outputs": [
    {
     "name": "stdout",
     "output_type": "stream",
     "text": [
      "         Area Code                      Area  Item Code   Item  Element Code  \\\n",
      "2661031        231  United States of America         56  Maize          5312   \n",
      "2661032        231  United States of America         56  Maize          5312   \n",
      "2661033        231  United States of America         56  Maize          5312   \n",
      "2661034        231  United States of America         56  Maize          5312   \n",
      "2661035        231  United States of America         56  Maize          5312   \n",
      "...            ...                       ...        ...    ...           ...   \n",
      "2673096        231  United States of America         15  Wheat          5510   \n",
      "2673097        231  United States of America         15  Wheat          5510   \n",
      "2673098        231  United States of America         15  Wheat          5510   \n",
      "2673099        231  United States of America         15  Wheat          5510   \n",
      "2673100        231  United States of America         15  Wheat          5510   \n",
      "\n",
      "                Element  Year Code  Year    Unit       Value Flag  \n",
      "2661031  Area harvested       1961  1961      ha  23323008.0  NaN  \n",
      "2661032  Area harvested       1962  1962      ha  22551008.0  NaN  \n",
      "2661033  Area harvested       1963  1963      ha  23968000.0  NaN  \n",
      "2661034  Area harvested       1964  1964      ha  22407008.0  NaN  \n",
      "2661035  Area harvested       1965  1965      ha  22416032.0  NaN  \n",
      "...                 ...        ...   ...     ...         ...  ...  \n",
      "2673096      Production       2016  2016  tonnes  62831507.0  NaN  \n",
      "2673097      Production       2017  2017  tonnes  47379810.0  NaN  \n",
      "2673098      Production       2018  2018  tonnes  51305540.0  NaN  \n",
      "2673099      Production       2019  2019  tonnes  52580890.0  NaN  \n",
      "2673100      Production       2020  2020  tonnes  49690680.0  NaN  \n",
      "\n",
      "[540 rows x 11 columns]\n"
     ]
    }
   ],
   "source": [
    "print(CropsProductionusa2)"
   ]
  },
  {
   "cell_type": "code",
   "execution_count": 30,
   "id": "32ecd145",
   "metadata": {},
   "outputs": [],
   "source": [
    "CropsProductionusa3 = CropsProductionusa2.loc[CropsProductionusa2['Element']=='Production']"
   ]
  },
  {
   "cell_type": "code",
   "execution_count": 31,
   "id": "4ed22973",
   "metadata": {},
   "outputs": [
    {
     "name": "stdout",
     "output_type": "stream",
     "text": [
      "         Area Code                      Area  Item Code   Item  Element Code  \\\n",
      "2661151        231  United States of America         56  Maize          5510   \n",
      "2661152        231  United States of America         56  Maize          5510   \n",
      "2661153        231  United States of America         56  Maize          5510   \n",
      "2661154        231  United States of America         56  Maize          5510   \n",
      "2661155        231  United States of America         56  Maize          5510   \n",
      "...            ...                       ...        ...    ...           ...   \n",
      "2673096        231  United States of America         15  Wheat          5510   \n",
      "2673097        231  United States of America         15  Wheat          5510   \n",
      "2673098        231  United States of America         15  Wheat          5510   \n",
      "2673099        231  United States of America         15  Wheat          5510   \n",
      "2673100        231  United States of America         15  Wheat          5510   \n",
      "\n",
      "            Element  Year Code  Year    Unit        Value Flag  \n",
      "2661151  Production       1961  1961  tonnes   91388000.0  NaN  \n",
      "2661152  Production       1962  1962  tonnes   91604000.0  NaN  \n",
      "2661153  Production       1963  1963  tonnes  102093008.0  NaN  \n",
      "2661154  Production       1964  1964  tonnes   88504000.0  NaN  \n",
      "2661155  Production       1965  1965  tonnes  104216928.0  NaN  \n",
      "...             ...        ...   ...     ...          ...  ...  \n",
      "2673096  Production       2016  2016  tonnes   62831507.0  NaN  \n",
      "2673097  Production       2017  2017  tonnes   47379810.0  NaN  \n",
      "2673098  Production       2018  2018  tonnes   51305540.0  NaN  \n",
      "2673099  Production       2019  2019  tonnes   52580890.0  NaN  \n",
      "2673100  Production       2020  2020  tonnes   49690680.0  NaN  \n",
      "\n",
      "[180 rows x 11 columns]\n"
     ]
    }
   ],
   "source": [
    "print(CropsProductionusa3)"
   ]
  },
  {
   "cell_type": "code",
   "execution_count": 38,
   "id": "0fb378ff",
   "metadata": {},
   "outputs": [],
   "source": [
    "CropsProductionusa4 = CropsProductionusa3.loc[CropsProductionusa3['Year'] > 1998]"
   ]
  },
  {
   "cell_type": "code",
   "execution_count": 35,
   "id": "0ef00bc1",
   "metadata": {},
   "outputs": [
    {
     "name": "stdout",
     "output_type": "stream",
     "text": [
      "         Area Code                      Area  Item Code   Item  Element Code  \\\n",
      "2661189        231  United States of America         56  Maize          5510   \n",
      "2661190        231  United States of America         56  Maize          5510   \n",
      "2661191        231  United States of America         56  Maize          5510   \n",
      "2661192        231  United States of America         56  Maize          5510   \n",
      "2661193        231  United States of America         56  Maize          5510   \n",
      "...            ...                       ...        ...    ...           ...   \n",
      "2673096        231  United States of America         15  Wheat          5510   \n",
      "2673097        231  United States of America         15  Wheat          5510   \n",
      "2673098        231  United States of America         15  Wheat          5510   \n",
      "2673099        231  United States of America         15  Wheat          5510   \n",
      "2673100        231  United States of America         15  Wheat          5510   \n",
      "\n",
      "            Element  Year Code  Year    Unit        Value Flag  \n",
      "2661189  Production       1999  1999  tonnes  239548580.0  NaN  \n",
      "2661190  Production       2000  2000  tonnes  251853900.0  NaN  \n",
      "2661191  Production       2001  2001  tonnes  241376650.0  NaN  \n",
      "2661192  Production       2002  2002  tonnes  227766880.0  NaN  \n",
      "2661193  Production       2003  2003  tonnes  256229020.0  NaN  \n",
      "...             ...        ...   ...     ...          ...  ...  \n",
      "2673096  Production       2016  2016  tonnes   62831507.0  NaN  \n",
      "2673097  Production       2017  2017  tonnes   47379810.0  NaN  \n",
      "2673098  Production       2018  2018  tonnes   51305540.0  NaN  \n",
      "2673099  Production       2019  2019  tonnes   52580890.0  NaN  \n",
      "2673100  Production       2020  2020  tonnes   49690680.0  NaN  \n",
      "\n",
      "[66 rows x 11 columns]\n"
     ]
    }
   ],
   "source": [
    "print(CropsProductionusa4)"
   ]
  },
  {
   "cell_type": "code",
   "execution_count": 41,
   "id": "7f66b07a",
   "metadata": {},
   "outputs": [],
   "source": [
    "CropsProductionfinal = CropsProductionusa4.loc[CropsProductionusa4['Year'] < 2020]"
   ]
  },
  {
   "cell_type": "code",
   "execution_count": 42,
   "id": "c25546ac",
   "metadata": {},
   "outputs": [
    {
     "name": "stdout",
     "output_type": "stream",
     "text": [
      "         Area Code                      Area  Item Code   Item  Element Code  \\\n",
      "2661189        231  United States of America         56  Maize          5510   \n",
      "2661190        231  United States of America         56  Maize          5510   \n",
      "2661191        231  United States of America         56  Maize          5510   \n",
      "2661192        231  United States of America         56  Maize          5510   \n",
      "2661193        231  United States of America         56  Maize          5510   \n",
      "...            ...                       ...        ...    ...           ...   \n",
      "2673095        231  United States of America         15  Wheat          5510   \n",
      "2673096        231  United States of America         15  Wheat          5510   \n",
      "2673097        231  United States of America         15  Wheat          5510   \n",
      "2673098        231  United States of America         15  Wheat          5510   \n",
      "2673099        231  United States of America         15  Wheat          5510   \n",
      "\n",
      "            Element  Year Code  Year    Unit        Value Flag  \n",
      "2661189  Production       1999  1999  tonnes  239548580.0  NaN  \n",
      "2661190  Production       2000  2000  tonnes  251853900.0  NaN  \n",
      "2661191  Production       2001  2001  tonnes  241376650.0  NaN  \n",
      "2661192  Production       2002  2002  tonnes  227766880.0  NaN  \n",
      "2661193  Production       2003  2003  tonnes  256229020.0  NaN  \n",
      "...             ...        ...   ...     ...          ...  ...  \n",
      "2673095  Production       2015  2015  tonnes   55839540.0  NaN  \n",
      "2673096  Production       2016  2016  tonnes   62831507.0  NaN  \n",
      "2673097  Production       2017  2017  tonnes   47379810.0  NaN  \n",
      "2673098  Production       2018  2018  tonnes   51305540.0  NaN  \n",
      "2673099  Production       2019  2019  tonnes   52580890.0  NaN  \n",
      "\n",
      "[63 rows x 11 columns]\n"
     ]
    }
   ],
   "source": [
    "print(CropsProductionfinal)"
   ]
  },
  {
   "cell_type": "code",
   "execution_count": 43,
   "id": "cc86be77",
   "metadata": {},
   "outputs": [
    {
     "name": "stdout",
     "output_type": "stream",
     "text": [
      "          Item  Year    Unit        Value\n",
      "2661189  Maize  1999  tonnes  239548580.0\n",
      "2661190  Maize  2000  tonnes  251853900.0\n",
      "2661191  Maize  2001  tonnes  241376650.0\n",
      "2661192  Maize  2002  tonnes  227766880.0\n",
      "2661193  Maize  2003  tonnes  256229020.0\n",
      "...        ...   ...     ...          ...\n",
      "2673095  Wheat  2015  tonnes   55839540.0\n",
      "2673096  Wheat  2016  tonnes   62831507.0\n",
      "2673097  Wheat  2017  tonnes   47379810.0\n",
      "2673098  Wheat  2018  tonnes   51305540.0\n",
      "2673099  Wheat  2019  tonnes   52580890.0\n",
      "\n",
      "[63 rows x 4 columns]\n"
     ]
    },
    {
     "name": "stderr",
     "output_type": "stream",
     "text": [
      "C:\\Users\\David\\anaconda3\\lib\\site-packages\\pandas\\core\\frame.py:4308: SettingWithCopyWarning: \n",
      "A value is trying to be set on a copy of a slice from a DataFrame\n",
      "\n",
      "See the caveats in the documentation: https://pandas.pydata.org/pandas-docs/stable/user_guide/indexing.html#returning-a-view-versus-a-copy\n",
      "  return super().drop(\n"
     ]
    }
   ],
   "source": [
    "CropsProductionfinal.drop(['Area Code'],axis=1, inplace=True)\n",
    "CropsProductionfinal.drop(['Area'], axis=1, inplace=True)\n",
    "CropsProductionfinal.drop(['Element Code'], axis=1, inplace=True)\n",
    "CropsProductionfinal.drop(['Item Code'], axis=1, inplace=True)\n",
    "CropsProductionfinal.drop(['Year Code'],axis=1, inplace=True)\n",
    "CropsProductionfinal.drop(['Flag'], axis=1, inplace=True)\n",
    "CropsProductionfinal.drop(['Element'], axis=1, inplace=True)\n",
    "print(CropsProductionfinal)"
   ]
  },
  {
   "cell_type": "code",
   "execution_count": 47,
   "id": "1837ecd3",
   "metadata": {},
   "outputs": [
    {
     "data": {
      "text/html": [
       "<div>\n",
       "<style scoped>\n",
       "    .dataframe tbody tr th:only-of-type {\n",
       "        vertical-align: middle;\n",
       "    }\n",
       "\n",
       "    .dataframe tbody tr th {\n",
       "        vertical-align: top;\n",
       "    }\n",
       "\n",
       "    .dataframe thead th {\n",
       "        text-align: right;\n",
       "    }\n",
       "</style>\n",
       "<table border=\"1\" class=\"dataframe\">\n",
       "  <thead>\n",
       "    <tr style=\"text-align: right;\">\n",
       "      <th></th>\n",
       "      <th>Item</th>\n",
       "      <th>Year</th>\n",
       "      <th>Unit</th>\n",
       "      <th>Value</th>\n",
       "    </tr>\n",
       "  </thead>\n",
       "  <tbody>\n",
       "    <tr>\n",
       "      <th>2661189</th>\n",
       "      <td>Maize</td>\n",
       "      <td>1999</td>\n",
       "      <td>tonnes</td>\n",
       "      <td>239548580.0</td>\n",
       "    </tr>\n",
       "    <tr>\n",
       "      <th>2661190</th>\n",
       "      <td>Maize</td>\n",
       "      <td>2000</td>\n",
       "      <td>tonnes</td>\n",
       "      <td>251853900.0</td>\n",
       "    </tr>\n",
       "    <tr>\n",
       "      <th>2661191</th>\n",
       "      <td>Maize</td>\n",
       "      <td>2001</td>\n",
       "      <td>tonnes</td>\n",
       "      <td>241376650.0</td>\n",
       "    </tr>\n",
       "    <tr>\n",
       "      <th>2661192</th>\n",
       "      <td>Maize</td>\n",
       "      <td>2002</td>\n",
       "      <td>tonnes</td>\n",
       "      <td>227766880.0</td>\n",
       "    </tr>\n",
       "    <tr>\n",
       "      <th>2661193</th>\n",
       "      <td>Maize</td>\n",
       "      <td>2003</td>\n",
       "      <td>tonnes</td>\n",
       "      <td>256229020.0</td>\n",
       "    </tr>\n",
       "  </tbody>\n",
       "</table>\n",
       "</div>"
      ],
      "text/plain": [
       "          Item  Year    Unit        Value\n",
       "2661189  Maize  1999  tonnes  239548580.0\n",
       "2661190  Maize  2000  tonnes  251853900.0\n",
       "2661191  Maize  2001  tonnes  241376650.0\n",
       "2661192  Maize  2002  tonnes  227766880.0\n",
       "2661193  Maize  2003  tonnes  256229020.0"
      ]
     },
     "execution_count": 47,
     "metadata": {},
     "output_type": "execute_result"
    }
   ],
   "source": [
    "CropsProductionfinal.head()"
   ]
  },
  {
   "cell_type": "code",
   "execution_count": 48,
   "id": "2a894ae4",
   "metadata": {},
   "outputs": [
    {
     "name": "stdout",
     "output_type": "stream",
     "text": [
      "         Area Code                      Area  Item Code  \\\n",
      "2404087        231  United States of America        221   \n",
      "2404088        231  United States of America        221   \n",
      "2404089        231  United States of America        221   \n",
      "2404090        231  United States of America        221   \n",
      "2404091        231  United States of America        221   \n",
      "...            ...                       ...        ...   \n",
      "2430804        231  United States of America       1739   \n",
      "2430805        231  United States of America       1739   \n",
      "2430806        231  United States of America       1739   \n",
      "2430807        231  United States of America       1739   \n",
      "2430808        231  United States of America       1739   \n",
      "\n",
      "                                 Item  Element Code  \\\n",
      "2404087           Almonds, with shell           152   \n",
      "2404088           Almonds, with shell           152   \n",
      "2404089           Almonds, with shell           152   \n",
      "2404090           Almonds, with shell           152   \n",
      "2404091           Almonds, with shell           152   \n",
      "...                               ...           ...   \n",
      "2430804  Vegetables and Fruit Primary            58   \n",
      "2430805  Vegetables and Fruit Primary            58   \n",
      "2430806  Vegetables and Fruit Primary            58   \n",
      "2430807  Vegetables and Fruit Primary            58   \n",
      "2430808  Vegetables and Fruit Primary            58   \n",
      "\n",
      "                                                   Element  Year Code  Year  \\\n",
      "2404087  Gross Production Value (constant 2014-2016 tho...       1961  1961   \n",
      "2404088  Gross Production Value (constant 2014-2016 tho...       1962  1962   \n",
      "2404089  Gross Production Value (constant 2014-2016 tho...       1963  1963   \n",
      "2404090  Gross Production Value (constant 2014-2016 tho...       1964  1964   \n",
      "2404091  Gross Production Value (constant 2014-2016 tho...       1965  1965   \n",
      "...                                                    ...        ...   ...   \n",
      "2430804  Gross Production Value (constant 2014-2016 tho...       2014  2014   \n",
      "2430805  Gross Production Value (constant 2014-2016 tho...       2015  2015   \n",
      "2430806  Gross Production Value (constant 2014-2016 tho...       2016  2016   \n",
      "2430807  Gross Production Value (constant 2014-2016 tho...       2017  2017   \n",
      "2430808  Gross Production Value (constant 2014-2016 tho...       2018  2018   \n",
      "\n",
      "                Unit       Value Flag  \n",
      "2404087  1000 Int. $    304563.0   Fc  \n",
      "2404088  1000 Int. $    220167.0   Fc  \n",
      "2404089  1000 Int. $    273832.0   Fc  \n",
      "2404090  1000 Int. $    344026.0   Fc  \n",
      "2404091  1000 Int. $    334374.0   Fc  \n",
      "...              ...         ...  ...  \n",
      "2430804     1000 US$  49531059.0    A  \n",
      "2430805     1000 US$  47733385.0    A  \n",
      "2430806     1000 US$  46989280.0    A  \n",
      "2430807     1000 US$  44534969.0    A  \n",
      "2430808     1000 US$  43901719.0    A  \n",
      "\n",
      "[26722 rows x 11 columns]\n"
     ]
    }
   ],
   "source": [
    "ValueOfCropsusa = ValueOfCrops.loc[ValueOfCrops['Area']=='United States of America']\n",
    "print(ValueOfCropsusa)"
   ]
  },
  {
   "cell_type": "code",
   "execution_count": 61,
   "id": "a9adf861",
   "metadata": {},
   "outputs": [],
   "source": [
    "ValueOfCropsusausa2 = ValueOfCropsusa.loc[ValueOfCropsusa['Item'].isin(['Maize','Soybeans','Wheat'])]"
   ]
  },
  {
   "cell_type": "code",
   "execution_count": 62,
   "id": "58730726",
   "metadata": {},
   "outputs": [
    {
     "name": "stdout",
     "output_type": "stream",
     "text": [
      "         Area Code                      Area  Item Code   Item  Element Code  \\\n",
      "2413925        231  United States of America         56  Maize           152   \n",
      "2413926        231  United States of America         56  Maize           152   \n",
      "2413927        231  United States of America         56  Maize           152   \n",
      "2413928        231  United States of America         56  Maize           152   \n",
      "2413929        231  United States of America         56  Maize           152   \n",
      "...            ...                       ...        ...    ...           ...   \n",
      "2427777        231  United States of America         15  Wheat            58   \n",
      "2427778        231  United States of America         15  Wheat            58   \n",
      "2427779        231  United States of America         15  Wheat            58   \n",
      "2427780        231  United States of America         15  Wheat            58   \n",
      "2427781        231  United States of America         15  Wheat            58   \n",
      "\n",
      "                                                   Element  Year Code  Year  \\\n",
      "2413925  Gross Production Value (constant 2014-2016 tho...       1961  1961   \n",
      "2413926  Gross Production Value (constant 2014-2016 tho...       1962  1962   \n",
      "2413927  Gross Production Value (constant 2014-2016 tho...       1963  1963   \n",
      "2413928  Gross Production Value (constant 2014-2016 tho...       1964  1964   \n",
      "2413929  Gross Production Value (constant 2014-2016 tho...       1965  1965   \n",
      "...                                                    ...        ...   ...   \n",
      "2427777  Gross Production Value (constant 2014-2016 tho...       2015  2015   \n",
      "2427778  Gross Production Value (constant 2014-2016 tho...       2016  2016   \n",
      "2427779  Gross Production Value (constant 2014-2016 tho...       2017  2017   \n",
      "2427780  Gross Production Value (constant 2014-2016 tho...       2018  2018   \n",
      "2427781  Gross Production Value (constant 2014-2016 tho...       2019  2019   \n",
      "\n",
      "                Unit       Value Flag  \n",
      "2413925  1000 Int. $  18344487.0   Fc  \n",
      "2413926  1000 Int. $  18387845.0   Fc  \n",
      "2413927  1000 Int. $  20493324.0   Fc  \n",
      "2413928  1000 Int. $  17765576.0   Fc  \n",
      "2413929  1000 Int. $  20919662.0   Fc  \n",
      "...              ...         ...  ...  \n",
      "2427777     1000 US$  10106957.0   Fc  \n",
      "2427778     1000 US$  11372503.0   Fc  \n",
      "2427779     1000 US$   8575746.0   Fc  \n",
      "2427780     1000 US$   9286303.0   Fc  \n",
      "2427781     1000 US$   9458629.0   Fc  \n",
      "\n",
      "[705 rows x 11 columns]\n"
     ]
    }
   ],
   "source": [
    "print(ValueOfCropsusausa2)"
   ]
  },
  {
   "cell_type": "code",
   "execution_count": 63,
   "id": "e1d5d524",
   "metadata": {},
   "outputs": [
    {
     "name": "stdout",
     "output_type": "stream",
     "text": [
      "         Area Code                      Area  Item Code   Item  Element Code  \\\n",
      "2414072        231  United States of America         56  Maize            57   \n",
      "2414073        231  United States of America         56  Maize            57   \n",
      "2414074        231  United States of America         56  Maize            57   \n",
      "2414075        231  United States of America         56  Maize            57   \n",
      "2414076        231  United States of America         56  Maize            57   \n",
      "...            ...                       ...        ...    ...           ...   \n",
      "2427718        231  United States of America         15  Wheat            57   \n",
      "2427719        231  United States of America         15  Wheat            57   \n",
      "2427720        231  United States of America         15  Wheat            57   \n",
      "2427721        231  United States of America         15  Wheat            57   \n",
      "2427722        231  United States of America         15  Wheat            57   \n",
      "\n",
      "                                               Element  Year Code  Year  \\\n",
      "2414072  Gross Production Value (current thousand US$)       1991  1991   \n",
      "2414073  Gross Production Value (current thousand US$)       1992  1992   \n",
      "2414074  Gross Production Value (current thousand US$)       1993  1993   \n",
      "2414075  Gross Production Value (current thousand US$)       1994  1994   \n",
      "2414076  Gross Production Value (current thousand US$)       1995  1995   \n",
      "...                                                ...        ...   ...   \n",
      "2427718  Gross Production Value (current thousand US$)       2015  2015   \n",
      "2427719  Gross Production Value (current thousand US$)       2016  2016   \n",
      "2427720  Gross Production Value (current thousand US$)       2017  2017   \n",
      "2427721  Gross Production Value (current thousand US$)       2018  2018   \n",
      "2427722  Gross Production Value (current thousand US$)       2019  2019   \n",
      "\n",
      "             Unit       Value Flag  \n",
      "2414072  1000 US$  17657704.0   Fc  \n",
      "2414073  1000 US$  19498257.0   Fc  \n",
      "2414074  1000 US$  15776604.0   Fc  \n",
      "2414075  1000 US$  22721252.0   Fc  \n",
      "2414076  1000 US$  24060154.0   Fc  \n",
      "...           ...         ...  ...  \n",
      "2427718  1000 US$  10051117.0   Fc  \n",
      "2427719  1000 US$   8984906.0   Fc  \n",
      "2427720  1000 US$   8196707.0   Fc  \n",
      "2427721  1000 US$   9696747.0   Fc  \n",
      "2427722  1000 US$   8727023.0   Fc  \n",
      "\n",
      "[87 rows x 11 columns]\n"
     ]
    }
   ],
   "source": [
    "ValueOfCropsusa3 = ValueOfCropsusausa2.loc[ValueOfCropsusa['Element']=='Gross Production Value (current thousand US$)']\n",
    "print(ValueOfCropsusa3)"
   ]
  },
  {
   "cell_type": "code",
   "execution_count": 64,
   "id": "f6151dee",
   "metadata": {},
   "outputs": [],
   "source": [
    "ValueOfCropsusa4 = ValueOfCropsusa3.loc[ValueOfCropsusa3['Year'] > 1998]"
   ]
  },
  {
   "cell_type": "code",
   "execution_count": 65,
   "id": "01b8e438",
   "metadata": {},
   "outputs": [
    {
     "name": "stdout",
     "output_type": "stream",
     "text": [
      "         Area Code                      Area  Item Code   Item  Element Code  \\\n",
      "2414080        231  United States of America         56  Maize            57   \n",
      "2414081        231  United States of America         56  Maize            57   \n",
      "2414082        231  United States of America         56  Maize            57   \n",
      "2414083        231  United States of America         56  Maize            57   \n",
      "2414084        231  United States of America         56  Maize            57   \n",
      "...            ...                       ...        ...    ...           ...   \n",
      "2427718        231  United States of America         15  Wheat            57   \n",
      "2427719        231  United States of America         15  Wheat            57   \n",
      "2427720        231  United States of America         15  Wheat            57   \n",
      "2427721        231  United States of America         15  Wheat            57   \n",
      "2427722        231  United States of America         15  Wheat            57   \n",
      "\n",
      "                                               Element  Year Code  Year  \\\n",
      "2414080  Gross Production Value (current thousand US$)       1999  1999   \n",
      "2414081  Gross Production Value (current thousand US$)       2000  2000   \n",
      "2414082  Gross Production Value (current thousand US$)       2001  2001   \n",
      "2414083  Gross Production Value (current thousand US$)       2002  2002   \n",
      "2414084  Gross Production Value (current thousand US$)       2003  2003   \n",
      "...                                                ...        ...   ...   \n",
      "2427718  Gross Production Value (current thousand US$)       2015  2015   \n",
      "2427719  Gross Production Value (current thousand US$)       2016  2016   \n",
      "2427720  Gross Production Value (current thousand US$)       2017  2017   \n",
      "2427721  Gross Production Value (current thousand US$)       2018  2018   \n",
      "2427722  Gross Production Value (current thousand US$)       2019  2019   \n",
      "\n",
      "             Unit       Value Flag  \n",
      "2414080  1000 US$  17247498.0   Fc  \n",
      "2414081  1000 US$  18385335.0   Fc  \n",
      "2414082  1000 US$  18827379.0   Fc  \n",
      "2414083  1000 US$  20726786.0   Fc  \n",
      "2414084  1000 US$  24341757.0   Fc  \n",
      "...           ...         ...  ...  \n",
      "2427718  1000 US$  10051117.0   Fc  \n",
      "2427719  1000 US$   8984906.0   Fc  \n",
      "2427720  1000 US$   8196707.0   Fc  \n",
      "2427721  1000 US$   9696747.0   Fc  \n",
      "2427722  1000 US$   8727023.0   Fc  \n",
      "\n",
      "[63 rows x 11 columns]\n"
     ]
    }
   ],
   "source": [
    "ValueOfCropsFinal = ValueOfCropsusa4.loc[ValueOfCropsusa4['Year'] < 2020]\n",
    "print(ValueOfCropsFinal)"
   ]
  },
  {
   "cell_type": "code",
   "execution_count": 66,
   "id": "485fd90a",
   "metadata": {},
   "outputs": [
    {
     "name": "stdout",
     "output_type": "stream",
     "text": [
      "          Item  Year      Unit       Value\n",
      "2414080  Maize  1999  1000 US$  17247498.0\n",
      "2414081  Maize  2000  1000 US$  18385335.0\n",
      "2414082  Maize  2001  1000 US$  18827379.0\n",
      "2414083  Maize  2002  1000 US$  20726786.0\n",
      "2414084  Maize  2003  1000 US$  24341757.0\n",
      "...        ...   ...       ...         ...\n",
      "2427718  Wheat  2015  1000 US$  10051117.0\n",
      "2427719  Wheat  2016  1000 US$   8984906.0\n",
      "2427720  Wheat  2017  1000 US$   8196707.0\n",
      "2427721  Wheat  2018  1000 US$   9696747.0\n",
      "2427722  Wheat  2019  1000 US$   8727023.0\n",
      "\n",
      "[63 rows x 4 columns]\n"
     ]
    }
   ],
   "source": [
    "ValueOfCropsFinal.drop(['Area Code'],axis=1, inplace=True)\n",
    "ValueOfCropsFinal.drop(['Area'], axis=1, inplace=True)\n",
    "ValueOfCropsFinal.drop(['Element Code'], axis=1, inplace=True)\n",
    "ValueOfCropsFinal.drop(['Item Code'], axis=1, inplace=True)\n",
    "ValueOfCropsFinal.drop(['Year Code'],axis=1, inplace=True)\n",
    "ValueOfCropsFinal.drop(['Flag'], axis=1, inplace=True)\n",
    "ValueOfCropsFinal.drop(['Element'], axis=1, inplace=True)\n",
    "print(ValueOfCropsFinal)"
   ]
  },
  {
   "cell_type": "code",
   "execution_count": 67,
   "id": "469f0994",
   "metadata": {},
   "outputs": [
    {
     "name": "stdout",
     "output_type": "stream",
     "text": [
      "        Area Code                      Area  Months Code               Months  \\\n",
      "432276        231  United States of America         7001              January   \n",
      "432277        231  United States of America         7001              January   \n",
      "432278        231  United States of America         7001              January   \n",
      "432279        231  United States of America         7001              January   \n",
      "432280        231  United States of America         7001              January   \n",
      "...           ...                       ...          ...                  ...   \n",
      "434311        231  United States of America         7020  Meteorological year   \n",
      "434312        231  United States of America         7020  Meteorological year   \n",
      "434313        231  United States of America         7020  Meteorological year   \n",
      "434314        231  United States of America         7020  Meteorological year   \n",
      "434315        231  United States of America         7020  Meteorological year   \n",
      "\n",
      "        Element Code             Element  Year Code  Year Unit  Value Flag  \n",
      "432276          7271  Temperature change       1961  1961   �C  0.948   Fc  \n",
      "432277          7271  Temperature change       1962  1962   �C -0.765   Fc  \n",
      "432278          7271  Temperature change       1963  1963   �C -1.168   Fc  \n",
      "432279          7271  Temperature change       1964  1964   �C  0.906   Fc  \n",
      "432280          7271  Temperature change       1965  1965   �C  0.751   Fc  \n",
      "...              ...                 ...        ...   ...  ...    ...  ...  \n",
      "434311          6078  Standard Deviation       2016  2016   �C  0.303   Fc  \n",
      "434312          6078  Standard Deviation       2017  2017   �C  0.303   Fc  \n",
      "434313          6078  Standard Deviation       2018  2018   �C  0.303   Fc  \n",
      "434314          6078  Standard Deviation       2019  2019   �C  0.303   Fc  \n",
      "434315          6078  Standard Deviation       2020  2020   �C  0.303   Fc  \n",
      "\n",
      "[2040 rows x 11 columns]\n"
     ]
    }
   ],
   "source": [
    "TempChangesusa = TempChanges.loc[TempChanges['Area']=='United States of America']\n",
    "print(TempChangesusa)"
   ]
  },
  {
   "cell_type": "code",
   "execution_count": 68,
   "id": "b228cdd4",
   "metadata": {},
   "outputs": [
    {
     "name": "stdout",
     "output_type": "stream",
     "text": [
      "        Area Code                      Area  Months Code               Months  \\\n",
      "432276        231  United States of America         7001              January   \n",
      "432277        231  United States of America         7001              January   \n",
      "432278        231  United States of America         7001              January   \n",
      "432279        231  United States of America         7001              January   \n",
      "432280        231  United States of America         7001              January   \n",
      "...           ...                       ...          ...                  ...   \n",
      "434251        231  United States of America         7020  Meteorological year   \n",
      "434252        231  United States of America         7020  Meteorological year   \n",
      "434253        231  United States of America         7020  Meteorological year   \n",
      "434254        231  United States of America         7020  Meteorological year   \n",
      "434255        231  United States of America         7020  Meteorological year   \n",
      "\n",
      "        Element Code             Element  Year Code  Year Unit  Value Flag  \n",
      "432276          7271  Temperature change       1961  1961   �C  0.948   Fc  \n",
      "432277          7271  Temperature change       1962  1962   �C -0.765   Fc  \n",
      "432278          7271  Temperature change       1963  1963   �C -1.168   Fc  \n",
      "432279          7271  Temperature change       1964  1964   �C  0.906   Fc  \n",
      "432280          7271  Temperature change       1965  1965   �C  0.751   Fc  \n",
      "...              ...                 ...        ...   ...  ...    ...  ...  \n",
      "434251          7271  Temperature change       2016  2016   �C  2.229   Fc  \n",
      "434252          7271  Temperature change       2017  2017   �C  1.437   Fc  \n",
      "434253          7271  Temperature change       2018  2018   �C  1.278   Fc  \n",
      "434254          7271  Temperature change       2019  2019   �C  1.040   Fc  \n",
      "434255          7271  Temperature change       2020  2020   �C  1.331   Fc  \n",
      "\n",
      "[1020 rows x 11 columns]\n"
     ]
    }
   ],
   "source": [
    "TempChangesusa2 = TempChangesusa.loc[TempChangesusa['Element']=='Temperature change']\n",
    "print(TempChangesusa2)"
   ]
  },
  {
   "cell_type": "code",
   "execution_count": 69,
   "id": "50f9616d",
   "metadata": {},
   "outputs": [
    {
     "name": "stdout",
     "output_type": "stream",
     "text": [
      "        Area Code                      Area  Months Code               Months  \\\n",
      "434196        231  United States of America         7020  Meteorological year   \n",
      "434197        231  United States of America         7020  Meteorological year   \n",
      "434198        231  United States of America         7020  Meteorological year   \n",
      "434199        231  United States of America         7020  Meteorological year   \n",
      "434200        231  United States of America         7020  Meteorological year   \n",
      "434201        231  United States of America         7020  Meteorological year   \n",
      "434202        231  United States of America         7020  Meteorological year   \n",
      "434203        231  United States of America         7020  Meteorological year   \n",
      "434204        231  United States of America         7020  Meteorological year   \n",
      "434205        231  United States of America         7020  Meteorological year   \n",
      "434206        231  United States of America         7020  Meteorological year   \n",
      "434207        231  United States of America         7020  Meteorological year   \n",
      "434208        231  United States of America         7020  Meteorological year   \n",
      "434209        231  United States of America         7020  Meteorological year   \n",
      "434210        231  United States of America         7020  Meteorological year   \n",
      "434211        231  United States of America         7020  Meteorological year   \n",
      "434212        231  United States of America         7020  Meteorological year   \n",
      "434213        231  United States of America         7020  Meteorological year   \n",
      "434214        231  United States of America         7020  Meteorological year   \n",
      "434215        231  United States of America         7020  Meteorological year   \n",
      "434216        231  United States of America         7020  Meteorological year   \n",
      "434217        231  United States of America         7020  Meteorological year   \n",
      "434218        231  United States of America         7020  Meteorological year   \n",
      "434219        231  United States of America         7020  Meteorological year   \n",
      "434220        231  United States of America         7020  Meteorological year   \n",
      "434221        231  United States of America         7020  Meteorological year   \n",
      "434222        231  United States of America         7020  Meteorological year   \n",
      "434223        231  United States of America         7020  Meteorological year   \n",
      "434224        231  United States of America         7020  Meteorological year   \n",
      "434225        231  United States of America         7020  Meteorological year   \n",
      "434226        231  United States of America         7020  Meteorological year   \n",
      "434227        231  United States of America         7020  Meteorological year   \n",
      "434228        231  United States of America         7020  Meteorological year   \n",
      "434229        231  United States of America         7020  Meteorological year   \n",
      "434230        231  United States of America         7020  Meteorological year   \n",
      "434231        231  United States of America         7020  Meteorological year   \n",
      "434232        231  United States of America         7020  Meteorological year   \n",
      "434233        231  United States of America         7020  Meteorological year   \n",
      "434234        231  United States of America         7020  Meteorological year   \n",
      "434235        231  United States of America         7020  Meteorological year   \n",
      "434236        231  United States of America         7020  Meteorological year   \n",
      "434237        231  United States of America         7020  Meteorological year   \n",
      "434238        231  United States of America         7020  Meteorological year   \n",
      "434239        231  United States of America         7020  Meteorological year   \n",
      "434240        231  United States of America         7020  Meteorological year   \n",
      "434241        231  United States of America         7020  Meteorological year   \n",
      "434242        231  United States of America         7020  Meteorological year   \n",
      "434243        231  United States of America         7020  Meteorological year   \n",
      "434244        231  United States of America         7020  Meteorological year   \n",
      "434245        231  United States of America         7020  Meteorological year   \n",
      "434246        231  United States of America         7020  Meteorological year   \n",
      "434247        231  United States of America         7020  Meteorological year   \n",
      "434248        231  United States of America         7020  Meteorological year   \n",
      "434249        231  United States of America         7020  Meteorological year   \n",
      "434250        231  United States of America         7020  Meteorological year   \n",
      "434251        231  United States of America         7020  Meteorological year   \n",
      "434252        231  United States of America         7020  Meteorological year   \n",
      "434253        231  United States of America         7020  Meteorological year   \n",
      "434254        231  United States of America         7020  Meteorological year   \n",
      "434255        231  United States of America         7020  Meteorological year   \n",
      "\n",
      "        Element Code             Element  Year Code  Year Unit  Value Flag  \n",
      "434196          7271  Temperature change       1961  1961   �C  0.006   Fc  \n",
      "434197          7271  Temperature change       1962  1962   �C -0.019   Fc  \n",
      "434198          7271  Temperature change       1963  1963   �C  0.420   Fc  \n",
      "434199          7271  Temperature change       1964  1964   �C -0.280   Fc  \n",
      "434200          7271  Temperature change       1965  1965   �C -0.354   Fc  \n",
      "434201          7271  Temperature change       1966  1966   �C -0.210   Fc  \n",
      "434202          7271  Temperature change       1967  1967   �C  0.078   Fc  \n",
      "434203          7271  Temperature change       1968  1968   �C -0.074   Fc  \n",
      "434204          7271  Temperature change       1969  1969   �C -0.267   Fc  \n",
      "434205          7271  Temperature change       1970  1970   �C -0.030   Fc  \n",
      "434206          7271  Temperature change       1971  1971   �C -0.417   Fc  \n",
      "434207          7271  Temperature change       1972  1972   �C -0.248   Fc  \n",
      "434208          7271  Temperature change       1973  1973   �C -0.015   Fc  \n",
      "434209          7271  Temperature change       1974  1974   �C  0.081   Fc  \n",
      "434210          7271  Temperature change       1975  1975   �C -0.386   Fc  \n",
      "434211          7271  Temperature change       1976  1976   �C -0.125   Fc  \n",
      "434212          7271  Temperature change       1977  1977   �C  0.391   Fc  \n",
      "434213          7271  Temperature change       1978  1978   �C  0.029   Fc  \n",
      "434214          7271  Temperature change       1979  1979   �C -0.308   Fc  \n",
      "434215          7271  Temperature change       1980  1980   �C  0.405   Fc  \n",
      "434216          7271  Temperature change       1981  1981   �C  0.864   Fc  \n",
      "434217          7271  Temperature change       1982  1982   �C -0.342   Fc  \n",
      "434218          7271  Temperature change       1983  1983   �C  0.532   Fc  \n",
      "434219          7271  Temperature change       1984  1984   �C -0.231   Fc  \n",
      "434220          7271  Temperature change       1985  1985   �C -0.026   Fc  \n",
      "434221          7271  Temperature change       1986  1986   �C  0.577   Fc  \n",
      "434222          7271  Temperature change       1987  1987   �C  0.904   Fc  \n",
      "434223          7271  Temperature change       1988  1988   �C  0.463   Fc  \n",
      "434224          7271  Temperature change       1989  1989   �C  0.319   Fc  \n",
      "434225          7271  Temperature change       1990  1990   �C  0.668   Fc  \n",
      "434226          7271  Temperature change       1991  1991   �C  0.522   Fc  \n",
      "434227          7271  Temperature change       1992  1992   �C  0.394   Fc  \n",
      "434228          7271  Temperature change       1993  1993   �C  0.007   Fc  \n",
      "434229          7271  Temperature change       1994  1994   �C  0.465   Fc  \n",
      "434230          7271  Temperature change       1995  1995   �C  0.629   Fc  \n",
      "434231          7271  Temperature change       1996  1996   �C -0.009   Fc  \n",
      "434232          7271  Temperature change       1997  1997   �C  0.391   Fc  \n",
      "434233          7271  Temperature change       1998  1998   �C  1.268   Fc  \n",
      "434234          7271  Temperature change       1999  1999   �C  0.755   Fc  \n",
      "434235          7271  Temperature change       2000  2000   �C  1.000   Fc  \n",
      "434236          7271  Temperature change       2001  2001   �C  0.784   Fc  \n",
      "434237          7271  Temperature change       2002  2002   �C  0.953   Fc  \n",
      "434238          7271  Temperature change       2003  2003   �C  0.992   Fc  \n",
      "434239          7271  Temperature change       2004  2004   �C  0.866   Fc  \n",
      "434240          7271  Temperature change       2005  2005   �C  1.157   Fc  \n",
      "434241          7271  Temperature change       2006  2006   �C  1.028   Fc  \n",
      "434242          7271  Temperature change       2007  2007   �C  1.147   Fc  \n",
      "434243          7271  Temperature change       2008  2008   �C  0.215   Fc  \n",
      "434244          7271  Temperature change       2009  2009   �C  0.399   Fc  \n",
      "434245          7271  Temperature change       2010  2010   �C  0.694   Fc  \n",
      "434246          7271  Temperature change       2011  2011   �C  0.539   Fc  \n",
      "434247          7271  Temperature change       2012  2012   �C  1.451   Fc  \n",
      "434248          7271  Temperature change       2013  2013   �C  0.618   Fc  \n",
      "434249          7271  Temperature change       2014  2014   �C  0.504   Fc  \n",
      "434250          7271  Temperature change       2015  2015   �C  1.534   Fc  \n",
      "434251          7271  Temperature change       2016  2016   �C  2.229   Fc  \n",
      "434252          7271  Temperature change       2017  2017   �C  1.437   Fc  \n",
      "434253          7271  Temperature change       2018  2018   �C  1.278   Fc  \n",
      "434254          7271  Temperature change       2019  2019   �C  1.040   Fc  \n",
      "434255          7271  Temperature change       2020  2020   �C  1.331   Fc  \n"
     ]
    }
   ],
   "source": [
    "TempChangesusa3 = TempChangesusa2.loc[TempChangesusa2['Months']=='Meteorological year']\n",
    "print(TempChangesusa3)"
   ]
  },
  {
   "cell_type": "code",
   "execution_count": 70,
   "id": "5910f1a2",
   "metadata": {},
   "outputs": [],
   "source": [
    "TempChangesusa4 = TempChangesusa3.loc[TempChangesusa3['Year'] > 1998]"
   ]
  },
  {
   "cell_type": "code",
   "execution_count": 74,
   "id": "1feec711",
   "metadata": {},
   "outputs": [
    {
     "name": "stdout",
     "output_type": "stream",
     "text": [
      "        Area Code                      Area  Months Code               Months  \\\n",
      "434234        231  United States of America         7020  Meteorological year   \n",
      "434235        231  United States of America         7020  Meteorological year   \n",
      "434236        231  United States of America         7020  Meteorological year   \n",
      "434237        231  United States of America         7020  Meteorological year   \n",
      "434238        231  United States of America         7020  Meteorological year   \n",
      "434239        231  United States of America         7020  Meteorological year   \n",
      "434240        231  United States of America         7020  Meteorological year   \n",
      "434241        231  United States of America         7020  Meteorological year   \n",
      "434242        231  United States of America         7020  Meteorological year   \n",
      "434243        231  United States of America         7020  Meteorological year   \n",
      "434244        231  United States of America         7020  Meteorological year   \n",
      "434245        231  United States of America         7020  Meteorological year   \n",
      "434246        231  United States of America         7020  Meteorological year   \n",
      "434247        231  United States of America         7020  Meteorological year   \n",
      "434248        231  United States of America         7020  Meteorological year   \n",
      "434249        231  United States of America         7020  Meteorological year   \n",
      "434250        231  United States of America         7020  Meteorological year   \n",
      "434251        231  United States of America         7020  Meteorological year   \n",
      "434252        231  United States of America         7020  Meteorological year   \n",
      "434253        231  United States of America         7020  Meteorological year   \n",
      "434254        231  United States of America         7020  Meteorological year   \n",
      "\n",
      "        Element Code             Element  Year Code  Year Unit  Value Flag  \n",
      "434234          7271  Temperature change       1999  1999   �C  0.755   Fc  \n",
      "434235          7271  Temperature change       2000  2000   �C  1.000   Fc  \n",
      "434236          7271  Temperature change       2001  2001   �C  0.784   Fc  \n",
      "434237          7271  Temperature change       2002  2002   �C  0.953   Fc  \n",
      "434238          7271  Temperature change       2003  2003   �C  0.992   Fc  \n",
      "434239          7271  Temperature change       2004  2004   �C  0.866   Fc  \n",
      "434240          7271  Temperature change       2005  2005   �C  1.157   Fc  \n",
      "434241          7271  Temperature change       2006  2006   �C  1.028   Fc  \n",
      "434242          7271  Temperature change       2007  2007   �C  1.147   Fc  \n",
      "434243          7271  Temperature change       2008  2008   �C  0.215   Fc  \n",
      "434244          7271  Temperature change       2009  2009   �C  0.399   Fc  \n",
      "434245          7271  Temperature change       2010  2010   �C  0.694   Fc  \n",
      "434246          7271  Temperature change       2011  2011   �C  0.539   Fc  \n",
      "434247          7271  Temperature change       2012  2012   �C  1.451   Fc  \n",
      "434248          7271  Temperature change       2013  2013   �C  0.618   Fc  \n",
      "434249          7271  Temperature change       2014  2014   �C  0.504   Fc  \n",
      "434250          7271  Temperature change       2015  2015   �C  1.534   Fc  \n",
      "434251          7271  Temperature change       2016  2016   �C  2.229   Fc  \n",
      "434252          7271  Temperature change       2017  2017   �C  1.437   Fc  \n",
      "434253          7271  Temperature change       2018  2018   �C  1.278   Fc  \n",
      "434254          7271  Temperature change       2019  2019   �C  1.040   Fc  \n"
     ]
    }
   ],
   "source": [
    "TempChangesFinal = TempChangesusa4.loc[TempChangesusa4['Year'] < 2020]\n",
    "print(TempChangesFinal)"
   ]
  },
  {
   "cell_type": "code",
   "execution_count": 75,
   "id": "afaaf471",
   "metadata": {},
   "outputs": [
    {
     "name": "stdout",
     "output_type": "stream",
     "text": [
      "        Year Unit  Value\n",
      "434234  1999   �C  0.755\n",
      "434235  2000   �C  1.000\n",
      "434236  2001   �C  0.784\n",
      "434237  2002   �C  0.953\n",
      "434238  2003   �C  0.992\n",
      "434239  2004   �C  0.866\n",
      "434240  2005   �C  1.157\n",
      "434241  2006   �C  1.028\n",
      "434242  2007   �C  1.147\n",
      "434243  2008   �C  0.215\n",
      "434244  2009   �C  0.399\n",
      "434245  2010   �C  0.694\n",
      "434246  2011   �C  0.539\n",
      "434247  2012   �C  1.451\n",
      "434248  2013   �C  0.618\n",
      "434249  2014   �C  0.504\n",
      "434250  2015   �C  1.534\n",
      "434251  2016   �C  2.229\n",
      "434252  2017   �C  1.437\n",
      "434253  2018   �C  1.278\n",
      "434254  2019   �C  1.040\n"
     ]
    },
    {
     "name": "stderr",
     "output_type": "stream",
     "text": [
      "C:\\Users\\David\\anaconda3\\lib\\site-packages\\pandas\\core\\frame.py:4308: SettingWithCopyWarning: \n",
      "A value is trying to be set on a copy of a slice from a DataFrame\n",
      "\n",
      "See the caveats in the documentation: https://pandas.pydata.org/pandas-docs/stable/user_guide/indexing.html#returning-a-view-versus-a-copy\n",
      "  return super().drop(\n"
     ]
    }
   ],
   "source": [
    "TempChangesFinal.drop(['Area Code'],axis=1, inplace=True)\n",
    "TempChangesFinal.drop(['Area'], axis=1, inplace=True)\n",
    "TempChangesFinal.drop(['Element Code'], axis=1, inplace=True)\n",
    "TempChangesFinal.drop(['Months'], axis=1, inplace=True)\n",
    "TempChangesFinal.drop(['Year Code'],axis=1, inplace=True)\n",
    "TempChangesFinal.drop(['Flag'], axis=1, inplace=True)\n",
    "TempChangesFinal.drop(['Months Code'],axis=1, inplace=True)\n",
    "TempChangesFinal.drop(['Element'], axis=1, inplace=True)\n",
    "print(TempChangesFinal)"
   ]
  },
  {
   "cell_type": "code",
   "execution_count": 76,
   "id": "720a00d8",
   "metadata": {},
   "outputs": [
    {
     "data": {
      "text/html": [
       "<div>\n",
       "<style scoped>\n",
       "    .dataframe tbody tr th:only-of-type {\n",
       "        vertical-align: middle;\n",
       "    }\n",
       "\n",
       "    .dataframe tbody tr th {\n",
       "        vertical-align: top;\n",
       "    }\n",
       "\n",
       "    .dataframe thead th {\n",
       "        text-align: right;\n",
       "    }\n",
       "</style>\n",
       "<table border=\"1\" class=\"dataframe\">\n",
       "  <thead>\n",
       "    <tr style=\"text-align: right;\">\n",
       "      <th></th>\n",
       "      <th>Crops</th>\n",
       "      <th>Year</th>\n",
       "      <th>Value in US$1000</th>\n",
       "    </tr>\n",
       "  </thead>\n",
       "  <tbody>\n",
       "    <tr>\n",
       "      <th>2414080</th>\n",
       "      <td>Maize</td>\n",
       "      <td>1999</td>\n",
       "      <td>17247498.0</td>\n",
       "    </tr>\n",
       "    <tr>\n",
       "      <th>2414081</th>\n",
       "      <td>Maize</td>\n",
       "      <td>2000</td>\n",
       "      <td>18385335.0</td>\n",
       "    </tr>\n",
       "    <tr>\n",
       "      <th>2414082</th>\n",
       "      <td>Maize</td>\n",
       "      <td>2001</td>\n",
       "      <td>18827379.0</td>\n",
       "    </tr>\n",
       "    <tr>\n",
       "      <th>2414083</th>\n",
       "      <td>Maize</td>\n",
       "      <td>2002</td>\n",
       "      <td>20726786.0</td>\n",
       "    </tr>\n",
       "    <tr>\n",
       "      <th>2414084</th>\n",
       "      <td>Maize</td>\n",
       "      <td>2003</td>\n",
       "      <td>24341757.0</td>\n",
       "    </tr>\n",
       "  </tbody>\n",
       "</table>\n",
       "</div>"
      ],
      "text/plain": [
       "         Crops  Year  Value in US$1000\n",
       "2414080  Maize  1999        17247498.0\n",
       "2414081  Maize  2000        18385335.0\n",
       "2414082  Maize  2001        18827379.0\n",
       "2414083  Maize  2002        20726786.0\n",
       "2414084  Maize  2003        24341757.0"
      ]
     },
     "execution_count": 76,
     "metadata": {},
     "output_type": "execute_result"
    }
   ],
   "source": [
    "ValueOfCropsFinal.rename(columns={'Value': 'Value in US$1000', 'Item': 'Crops'}, inplace=True)\n",
    "ValueOfCropsFinal.drop(['Unit'], axis=1, inplace=True)\n",
    "ValueOfCropsFinal.head()"
   ]
  },
  {
   "cell_type": "code",
   "execution_count": 77,
   "id": "7cc4c214",
   "metadata": {},
   "outputs": [
    {
     "name": "stderr",
     "output_type": "stream",
     "text": [
      "C:\\Users\\David\\anaconda3\\lib\\site-packages\\pandas\\core\\frame.py:4441: SettingWithCopyWarning: \n",
      "A value is trying to be set on a copy of a slice from a DataFrame\n",
      "\n",
      "See the caveats in the documentation: https://pandas.pydata.org/pandas-docs/stable/user_guide/indexing.html#returning-a-view-versus-a-copy\n",
      "  return super().rename(\n",
      "C:\\Users\\David\\anaconda3\\lib\\site-packages\\pandas\\core\\frame.py:4308: SettingWithCopyWarning: \n",
      "A value is trying to be set on a copy of a slice from a DataFrame\n",
      "\n",
      "See the caveats in the documentation: https://pandas.pydata.org/pandas-docs/stable/user_guide/indexing.html#returning-a-view-versus-a-copy\n",
      "  return super().drop(\n"
     ]
    },
    {
     "data": {
      "text/html": [
       "<div>\n",
       "<style scoped>\n",
       "    .dataframe tbody tr th:only-of-type {\n",
       "        vertical-align: middle;\n",
       "    }\n",
       "\n",
       "    .dataframe tbody tr th {\n",
       "        vertical-align: top;\n",
       "    }\n",
       "\n",
       "    .dataframe thead th {\n",
       "        text-align: right;\n",
       "    }\n",
       "</style>\n",
       "<table border=\"1\" class=\"dataframe\">\n",
       "  <thead>\n",
       "    <tr style=\"text-align: right;\">\n",
       "      <th></th>\n",
       "      <th>Crops</th>\n",
       "      <th>Year</th>\n",
       "      <th>Value in Tonnes</th>\n",
       "    </tr>\n",
       "  </thead>\n",
       "  <tbody>\n",
       "    <tr>\n",
       "      <th>2661189</th>\n",
       "      <td>Maize</td>\n",
       "      <td>1999</td>\n",
       "      <td>239548580.0</td>\n",
       "    </tr>\n",
       "    <tr>\n",
       "      <th>2661190</th>\n",
       "      <td>Maize</td>\n",
       "      <td>2000</td>\n",
       "      <td>251853900.0</td>\n",
       "    </tr>\n",
       "    <tr>\n",
       "      <th>2661191</th>\n",
       "      <td>Maize</td>\n",
       "      <td>2001</td>\n",
       "      <td>241376650.0</td>\n",
       "    </tr>\n",
       "    <tr>\n",
       "      <th>2661192</th>\n",
       "      <td>Maize</td>\n",
       "      <td>2002</td>\n",
       "      <td>227766880.0</td>\n",
       "    </tr>\n",
       "    <tr>\n",
       "      <th>2661193</th>\n",
       "      <td>Maize</td>\n",
       "      <td>2003</td>\n",
       "      <td>256229020.0</td>\n",
       "    </tr>\n",
       "  </tbody>\n",
       "</table>\n",
       "</div>"
      ],
      "text/plain": [
       "         Crops  Year  Value in Tonnes\n",
       "2661189  Maize  1999      239548580.0\n",
       "2661190  Maize  2000      251853900.0\n",
       "2661191  Maize  2001      241376650.0\n",
       "2661192  Maize  2002      227766880.0\n",
       "2661193  Maize  2003      256229020.0"
      ]
     },
     "execution_count": 77,
     "metadata": {},
     "output_type": "execute_result"
    }
   ],
   "source": [
    "CropsProductionfinal.rename(columns={'Value': 'Value in Tonnes', 'Item': 'Crops'}, inplace=True)\n",
    "CropsProductionfinal.drop(['Unit'], axis=1, inplace=True)\n",
    "CropsProductionfinal.head()"
   ]
  },
  {
   "cell_type": "code",
   "execution_count": 78,
   "id": "5f807058",
   "metadata": {},
   "outputs": [
    {
     "name": "stderr",
     "output_type": "stream",
     "text": [
      "C:\\Users\\David\\anaconda3\\lib\\site-packages\\pandas\\core\\frame.py:4441: SettingWithCopyWarning: \n",
      "A value is trying to be set on a copy of a slice from a DataFrame\n",
      "\n",
      "See the caveats in the documentation: https://pandas.pydata.org/pandas-docs/stable/user_guide/indexing.html#returning-a-view-versus-a-copy\n",
      "  return super().rename(\n",
      "C:\\Users\\David\\anaconda3\\lib\\site-packages\\pandas\\core\\frame.py:4308: SettingWithCopyWarning: \n",
      "A value is trying to be set on a copy of a slice from a DataFrame\n",
      "\n",
      "See the caveats in the documentation: https://pandas.pydata.org/pandas-docs/stable/user_guide/indexing.html#returning-a-view-versus-a-copy\n",
      "  return super().drop(\n"
     ]
    },
    {
     "data": {
      "text/html": [
       "<div>\n",
       "<style scoped>\n",
       "    .dataframe tbody tr th:only-of-type {\n",
       "        vertical-align: middle;\n",
       "    }\n",
       "\n",
       "    .dataframe tbody tr th {\n",
       "        vertical-align: top;\n",
       "    }\n",
       "\n",
       "    .dataframe thead th {\n",
       "        text-align: right;\n",
       "    }\n",
       "</style>\n",
       "<table border=\"1\" class=\"dataframe\">\n",
       "  <thead>\n",
       "    <tr style=\"text-align: right;\">\n",
       "      <th></th>\n",
       "      <th>Year</th>\n",
       "      <th>Temperature Change</th>\n",
       "    </tr>\n",
       "  </thead>\n",
       "  <tbody>\n",
       "    <tr>\n",
       "      <th>434234</th>\n",
       "      <td>1999</td>\n",
       "      <td>0.755</td>\n",
       "    </tr>\n",
       "    <tr>\n",
       "      <th>434235</th>\n",
       "      <td>2000</td>\n",
       "      <td>1.000</td>\n",
       "    </tr>\n",
       "    <tr>\n",
       "      <th>434236</th>\n",
       "      <td>2001</td>\n",
       "      <td>0.784</td>\n",
       "    </tr>\n",
       "    <tr>\n",
       "      <th>434237</th>\n",
       "      <td>2002</td>\n",
       "      <td>0.953</td>\n",
       "    </tr>\n",
       "    <tr>\n",
       "      <th>434238</th>\n",
       "      <td>2003</td>\n",
       "      <td>0.992</td>\n",
       "    </tr>\n",
       "  </tbody>\n",
       "</table>\n",
       "</div>"
      ],
      "text/plain": [
       "        Year  Temperature Change\n",
       "434234  1999               0.755\n",
       "434235  2000               1.000\n",
       "434236  2001               0.784\n",
       "434237  2002               0.953\n",
       "434238  2003               0.992"
      ]
     },
     "execution_count": 78,
     "metadata": {},
     "output_type": "execute_result"
    }
   ],
   "source": [
    "TempChangesFinal.rename(columns={'Value': 'Temperature Change', 'Item': 'Crops'}, inplace=True)\n",
    "TempChangesFinal.drop(['Unit'], axis=1, inplace=True)\n",
    "TempChangesFinal.head()"
   ]
  },
  {
   "cell_type": "code",
   "execution_count": 79,
   "id": "942daef3",
   "metadata": {},
   "outputs": [],
   "source": [
    "CropsProductionfinal.to_csv(r'C:/Users/David/Documents/vitu za maana/Education/Data Science Program/21 Final Project/Submitting Folder/Week4/New Dataset/CropsProductionfinal.csv', index = False)"
   ]
  },
  {
   "cell_type": "code",
   "execution_count": 80,
   "id": "f22ca800",
   "metadata": {},
   "outputs": [],
   "source": [
    "ValueOfCropsFinal.to_csv(r'C:/Users/David/Documents/vitu za maana/Education/Data Science Program/21 Final Project/Submitting Folder/Week4/New Dataset/ValueOfCropsFinal.csv', index = False)"
   ]
  },
  {
   "cell_type": "code",
   "execution_count": 81,
   "id": "3ee5fe37",
   "metadata": {},
   "outputs": [],
   "source": [
    "TempChangesFinal.to_csv(r'C:/Users/David/Documents/vitu za maana/Education/Data Science Program/21 Final Project/Submitting Folder/Week4/New Dataset/TempChangesFinal.csv', index = False)"
   ]
  },
  {
   "cell_type": "markdown",
   "id": "d0bd2a84",
   "metadata": {},
   "source": [
    "# Merging Datasets"
   ]
  },
  {
   "cell_type": "code",
   "execution_count": 83,
   "id": "3a2fd2ef",
   "metadata": {},
   "outputs": [
    {
     "data": {
      "text/html": [
       "<div>\n",
       "<style scoped>\n",
       "    .dataframe tbody tr th:only-of-type {\n",
       "        vertical-align: middle;\n",
       "    }\n",
       "\n",
       "    .dataframe tbody tr th {\n",
       "        vertical-align: top;\n",
       "    }\n",
       "\n",
       "    .dataframe thead th {\n",
       "        text-align: right;\n",
       "    }\n",
       "</style>\n",
       "<table border=\"1\" class=\"dataframe\">\n",
       "  <thead>\n",
       "    <tr style=\"text-align: right;\">\n",
       "      <th></th>\n",
       "      <th>Crops</th>\n",
       "      <th>Year</th>\n",
       "      <th>Value in Tonnes</th>\n",
       "      <th>Value in US$1000</th>\n",
       "    </tr>\n",
       "  </thead>\n",
       "  <tbody>\n",
       "    <tr>\n",
       "      <th>0</th>\n",
       "      <td>Maize</td>\n",
       "      <td>1999</td>\n",
       "      <td>239548580.0</td>\n",
       "      <td>17247498.0</td>\n",
       "    </tr>\n",
       "    <tr>\n",
       "      <th>1</th>\n",
       "      <td>Maize</td>\n",
       "      <td>2000</td>\n",
       "      <td>251853900.0</td>\n",
       "      <td>18385335.0</td>\n",
       "    </tr>\n",
       "    <tr>\n",
       "      <th>2</th>\n",
       "      <td>Maize</td>\n",
       "      <td>2001</td>\n",
       "      <td>241376650.0</td>\n",
       "      <td>18827379.0</td>\n",
       "    </tr>\n",
       "    <tr>\n",
       "      <th>3</th>\n",
       "      <td>Maize</td>\n",
       "      <td>2002</td>\n",
       "      <td>227766880.0</td>\n",
       "      <td>20726786.0</td>\n",
       "    </tr>\n",
       "    <tr>\n",
       "      <th>4</th>\n",
       "      <td>Maize</td>\n",
       "      <td>2003</td>\n",
       "      <td>256229020.0</td>\n",
       "      <td>24341757.0</td>\n",
       "    </tr>\n",
       "  </tbody>\n",
       "</table>\n",
       "</div>"
      ],
      "text/plain": [
       "   Crops  Year  Value in Tonnes  Value in US$1000\n",
       "0  Maize  1999      239548580.0        17247498.0\n",
       "1  Maize  2000      251853900.0        18385335.0\n",
       "2  Maize  2001      241376650.0        18827379.0\n",
       "3  Maize  2002      227766880.0        20726786.0\n",
       "4  Maize  2003      256229020.0        24341757.0"
      ]
     },
     "execution_count": 83,
     "metadata": {},
     "output_type": "execute_result"
    }
   ],
   "source": [
    "CropsOutput = pd.merge(CropsProductionfinal, ValueOfCropsFinal, how='inner', left_on=['Crops','Year'], right_on=['Crops','Year'])\n",
    "CropsOutput.head()"
   ]
  },
  {
   "cell_type": "code",
   "execution_count": 84,
   "id": "31ee241e",
   "metadata": {},
   "outputs": [
    {
     "data": {
      "text/html": [
       "<div>\n",
       "<style scoped>\n",
       "    .dataframe tbody tr th:only-of-type {\n",
       "        vertical-align: middle;\n",
       "    }\n",
       "\n",
       "    .dataframe tbody tr th {\n",
       "        vertical-align: top;\n",
       "    }\n",
       "\n",
       "    .dataframe thead th {\n",
       "        text-align: right;\n",
       "    }\n",
       "</style>\n",
       "<table border=\"1\" class=\"dataframe\">\n",
       "  <thead>\n",
       "    <tr style=\"text-align: right;\">\n",
       "      <th></th>\n",
       "      <th>Crops</th>\n",
       "      <th>Year</th>\n",
       "      <th>Value in Tonnes</th>\n",
       "      <th>Value in US$1000</th>\n",
       "      <th>Temperature Change</th>\n",
       "    </tr>\n",
       "  </thead>\n",
       "  <tbody>\n",
       "    <tr>\n",
       "      <th>0</th>\n",
       "      <td>Maize</td>\n",
       "      <td>1999</td>\n",
       "      <td>239548580.0</td>\n",
       "      <td>17247498.0</td>\n",
       "      <td>0.755</td>\n",
       "    </tr>\n",
       "    <tr>\n",
       "      <th>1</th>\n",
       "      <td>Soybeans</td>\n",
       "      <td>1999</td>\n",
       "      <td>72223460.0</td>\n",
       "      <td>12277988.0</td>\n",
       "      <td>0.755</td>\n",
       "    </tr>\n",
       "    <tr>\n",
       "      <th>2</th>\n",
       "      <td>Wheat</td>\n",
       "      <td>1999</td>\n",
       "      <td>62567284.0</td>\n",
       "      <td>5693623.0</td>\n",
       "      <td>0.755</td>\n",
       "    </tr>\n",
       "    <tr>\n",
       "      <th>3</th>\n",
       "      <td>Maize</td>\n",
       "      <td>2000</td>\n",
       "      <td>251853900.0</td>\n",
       "      <td>18385335.0</td>\n",
       "      <td>1.000</td>\n",
       "    </tr>\n",
       "    <tr>\n",
       "      <th>4</th>\n",
       "      <td>Soybeans</td>\n",
       "      <td>2000</td>\n",
       "      <td>75055290.0</td>\n",
       "      <td>12534233.0</td>\n",
       "      <td>1.000</td>\n",
       "    </tr>\n",
       "  </tbody>\n",
       "</table>\n",
       "</div>"
      ],
      "text/plain": [
       "      Crops  Year  Value in Tonnes  Value in US$1000  Temperature Change\n",
       "0     Maize  1999      239548580.0        17247498.0               0.755\n",
       "1  Soybeans  1999       72223460.0        12277988.0               0.755\n",
       "2     Wheat  1999       62567284.0         5693623.0               0.755\n",
       "3     Maize  2000      251853900.0        18385335.0               1.000\n",
       "4  Soybeans  2000       75055290.0        12534233.0               1.000"
      ]
     },
     "execution_count": 84,
     "metadata": {},
     "output_type": "execute_result"
    }
   ],
   "source": [
    "NormalizedMergedData = pd.merge(CropsOutput, TempChangesFinal, how='inner', on='Year')\n",
    "NormalizedMergedData.head()"
   ]
  },
  {
   "cell_type": "code",
   "execution_count": 85,
   "id": "35afcf8d",
   "metadata": {},
   "outputs": [],
   "source": [
    "NormalizedMergedData.to_csv(r'C:/Users/David/Documents/vitu za maana/Education/Data Science Program/21 Final Project/Submitting Folder/Week4/New Dataset/NormalizedMergedData.csv', index = False)"
   ]
  },
  {
   "cell_type": "code",
   "execution_count": null,
   "id": "3e8e59df",
   "metadata": {},
   "outputs": [],
   "source": []
  }
 ],
 "metadata": {
  "kernelspec": {
   "display_name": "Python 3",
   "language": "python",
   "name": "python3"
  },
  "language_info": {
   "codemirror_mode": {
    "name": "ipython",
    "version": 3
   },
   "file_extension": ".py",
   "mimetype": "text/x-python",
   "name": "python",
   "nbconvert_exporter": "python",
   "pygments_lexer": "ipython3",
   "version": "3.8.8"
  }
 },
 "nbformat": 4,
 "nbformat_minor": 5
}
